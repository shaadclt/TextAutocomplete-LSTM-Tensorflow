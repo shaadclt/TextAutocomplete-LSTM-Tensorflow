{
  "nbformat": 4,
  "nbformat_minor": 0,
  "metadata": {
    "colab": {
      "provenance": [],
      "gpuType": "T4"
    },
    "kernelspec": {
      "name": "python3",
      "display_name": "Python 3"
    },
    "language_info": {
      "name": "python"
    },
    "accelerator": "GPU"
  },
  "cells": [
    {
      "cell_type": "code",
      "execution_count": 1,
      "metadata": {
        "id": "6kxN6xHLH9dY"
      },
      "outputs": [],
      "source": [
        "faqs = \"\"\"\n",
        "What is Metridash?\n",
        "Metridash is an all-in-one content creation platform designed to empower creators like you. It combines AI-driven content generation, seamless multichannel publishing, content management, and real-time analytics to streamline your content creation process.\n",
        "How can Metridash help me as a creator?\n",
        "Metridash helps creators overcome creative blocks by generating personalized content ideas and prompts. It simplifies content management across multiple platforms, saving you time and effort. Additionally, it provides real-time analytics to help you track content performance and make data-driven decisions.\n",
        "Do I need to be tech-savvy to use Metridash?\n",
        "Not at all! Metridash is designed with user-friendliness in mind. Whether you're a tech guru or a beginner, you'll find our platform intuitive and easy to navigate.\n",
        "Can I use Metridash for different content platforms like YouTube, Instagram, and my TikTok?\n",
        "Absolutely! Metridash supports content creation and publishing across a wide range of platforms, including YouTube, Instagram, Twitter, Facebook, TikTok, LinkedIn, and blogs. You can manage all your content in one place.\n",
        "How does Metridash generate content ideas?\n",
        "Metridash uses a proprietary algorithm that takes your niche, target audience, and other details into account to generate personalized content ideas and prompts. It's like having a creative brainstorming partner at your side.\n",
        "Is my data safe with Metridash?\n",
        "We take data security seriously. Metridash employs robust security measures to protect your data. You can refer to our Privacy Policy for more details on how we handle and safeguard your information.\n",
        "How can I get started with Metridash?\n",
        "Getting started is easy. Simply sign up for a Metridash account, and you'll gain access to a world of content creation possibilities. We offer both free and premium plans to suit your needs.\n",
        "\"\"\""
      ]
    },
    {
      "cell_type": "code",
      "source": [
        "import tensorflow\n",
        "from tensorflow.keras.preprocessing.text import Tokenizer"
      ],
      "metadata": {
        "id": "ZUIFXBYDIiDt"
      },
      "execution_count": 2,
      "outputs": []
    },
    {
      "cell_type": "code",
      "source": [
        "tokenizer = Tokenizer()"
      ],
      "metadata": {
        "id": "FuXsTLj8IrFZ"
      },
      "execution_count": 3,
      "outputs": []
    },
    {
      "cell_type": "code",
      "source": [
        "tokenizer.fit_on_texts([faqs])"
      ],
      "metadata": {
        "id": "cNrZcSdlI0GL"
      },
      "execution_count": 4,
      "outputs": []
    },
    {
      "cell_type": "code",
      "source": [
        "len(tokenizer.word_index)"
      ],
      "metadata": {
        "colab": {
          "base_uri": "https://localhost:8080/"
        },
        "id": "mMnQhv3-I5RD",
        "outputId": "17c9f258-69fb-4f42-dd9c-ec8b4e880709"
      },
      "execution_count": 5,
      "outputs": [
        {
          "output_type": "execute_result",
          "data": {
            "text/plain": [
              "156"
            ]
          },
          "metadata": {},
          "execution_count": 5
        }
      ]
    },
    {
      "cell_type": "code",
      "source": [
        "input_sequences = []\n",
        "for sentence in faqs.split('\\n'):\n",
        "  tokenized_sentence = tokenizer.texts_to_sequences([sentence])[0]\n",
        "\n",
        "  for i in range(1,len(tokenized_sentence)):\n",
        "    input_sequences.append(tokenized_sentence[:i+1])"
      ],
      "metadata": {
        "id": "16NwHR-kI9Tr"
      },
      "execution_count": 6,
      "outputs": []
    },
    {
      "cell_type": "code",
      "source": [
        "max_len = max([len(x) for x in input_sequences])"
      ],
      "metadata": {
        "id": "_z7DiEviJdib"
      },
      "execution_count": 7,
      "outputs": []
    },
    {
      "cell_type": "code",
      "source": [
        "from tensorflow.keras.preprocessing.sequence import pad_sequences\n",
        "padded_input_sequences = pad_sequences(input_sequences,maxlen = max_len, padding='pre')"
      ],
      "metadata": {
        "id": "UdijwiThJmMQ"
      },
      "execution_count": 8,
      "outputs": []
    },
    {
      "cell_type": "code",
      "source": [
        "X = padded_input_sequences[:,:-1]\n",
        "y = padded_input_sequences[:,-1]"
      ],
      "metadata": {
        "id": "U_HC6JsrJ2vj"
      },
      "execution_count": 9,
      "outputs": []
    },
    {
      "cell_type": "code",
      "source": [
        "X.shape"
      ],
      "metadata": {
        "colab": {
          "base_uri": "https://localhost:8080/"
        },
        "id": "gz3mTfrPKUKb",
        "outputId": "038332b4-e5e5-4ae0-c46d-f354ed0f8239"
      },
      "execution_count": 10,
      "outputs": [
        {
          "output_type": "execute_result",
          "data": {
            "text/plain": [
              "(275, 41)"
            ]
          },
          "metadata": {},
          "execution_count": 10
        }
      ]
    },
    {
      "cell_type": "code",
      "source": [
        "y.shape"
      ],
      "metadata": {
        "colab": {
          "base_uri": "https://localhost:8080/"
        },
        "id": "38mahrJXKX8q",
        "outputId": "6bcdd899-4fee-4e68-cc4d-1056b47d2609"
      },
      "execution_count": 11,
      "outputs": [
        {
          "output_type": "execute_result",
          "data": {
            "text/plain": [
              "(275,)"
            ]
          },
          "metadata": {},
          "execution_count": 11
        }
      ]
    },
    {
      "cell_type": "code",
      "source": [
        "from tensorflow.keras.utils import to_categorical\n",
        "y = to_categorical(y,num_classes=157)"
      ],
      "metadata": {
        "id": "8vwMA6ayKdkz"
      },
      "execution_count": 12,
      "outputs": []
    },
    {
      "cell_type": "code",
      "source": [
        "y.shape"
      ],
      "metadata": {
        "colab": {
          "base_uri": "https://localhost:8080/"
        },
        "id": "73FfQg2dKzPr",
        "outputId": "d7c0c979-12d0-4041-eb10-1da28bf89590"
      },
      "execution_count": 13,
      "outputs": [
        {
          "output_type": "execute_result",
          "data": {
            "text/plain": [
              "(275, 157)"
            ]
          },
          "metadata": {},
          "execution_count": 13
        }
      ]
    },
    {
      "cell_type": "code",
      "source": [
        "from tensorflow.keras.models import Sequential\n",
        "from tensorflow.keras.layers import Embedding, LSTM, Dense"
      ],
      "metadata": {
        "id": "KbI4nb-BK0aT"
      },
      "execution_count": 14,
      "outputs": []
    },
    {
      "cell_type": "code",
      "source": [
        "model = Sequential()\n",
        "model.add(Embedding(157,100,input_length=41))\n",
        "model.add(LSTM(150, return_sequences=True))\n",
        "model.add(LSTM(150))\n",
        "model.add(Dense(157,activation='softmax'))"
      ],
      "metadata": {
        "id": "K98lFqW4LAjG"
      },
      "execution_count": 15,
      "outputs": []
    },
    {
      "cell_type": "code",
      "source": [
        "model.compile(loss='categorical_crossentropy',optimizer='adam',metrics=['accuracy'])"
      ],
      "metadata": {
        "id": "UtujjtShLXsL"
      },
      "execution_count": 16,
      "outputs": []
    },
    {
      "cell_type": "code",
      "source": [
        "model.summary()"
      ],
      "metadata": {
        "colab": {
          "base_uri": "https://localhost:8080/"
        },
        "id": "ZVah1uVeL1_x",
        "outputId": "a380ef12-0d64-4b62-c8c0-314ab2f1ae9f"
      },
      "execution_count": 17,
      "outputs": [
        {
          "output_type": "stream",
          "name": "stdout",
          "text": [
            "Model: \"sequential\"\n",
            "_________________________________________________________________\n",
            " Layer (type)                Output Shape              Param #   \n",
            "=================================================================\n",
            " embedding (Embedding)       (None, 41, 100)           15700     \n",
            "                                                                 \n",
            " lstm (LSTM)                 (None, 41, 150)           150600    \n",
            "                                                                 \n",
            " lstm_1 (LSTM)               (None, 150)               180600    \n",
            "                                                                 \n",
            " dense (Dense)               (None, 157)               23707     \n",
            "                                                                 \n",
            "=================================================================\n",
            "Total params: 370607 (1.41 MB)\n",
            "Trainable params: 370607 (1.41 MB)\n",
            "Non-trainable params: 0 (0.00 Byte)\n",
            "_________________________________________________________________\n"
          ]
        }
      ]
    },
    {
      "cell_type": "code",
      "source": [
        "model.fit(X,y,epochs=200)"
      ],
      "metadata": {
        "colab": {
          "base_uri": "https://localhost:8080/"
        },
        "id": "v_OSg_rvL3wB",
        "outputId": "ed73df0d-ad77-4918-96c3-365771168150"
      },
      "execution_count": 18,
      "outputs": [
        {
          "output_type": "stream",
          "name": "stdout",
          "text": [
            "Epoch 1/200\n",
            "9/9 [==============================] - 8s 358ms/step - loss: 5.0489 - accuracy: 0.0291\n",
            "Epoch 2/200\n",
            "9/9 [==============================] - 2s 196ms/step - loss: 4.9314 - accuracy: 0.0400\n",
            "Epoch 3/200\n",
            "9/9 [==============================] - 1s 140ms/step - loss: 4.7875 - accuracy: 0.0400\n",
            "Epoch 4/200\n",
            "9/9 [==============================] - 1s 68ms/step - loss: 4.7290 - accuracy: 0.0545\n",
            "Epoch 5/200\n",
            "9/9 [==============================] - 0s 49ms/step - loss: 4.6640 - accuracy: 0.0691\n",
            "Epoch 6/200\n",
            "9/9 [==============================] - 0s 31ms/step - loss: 4.6066 - accuracy: 0.0727\n",
            "Epoch 7/200\n",
            "9/9 [==============================] - 1s 68ms/step - loss: 4.5346 - accuracy: 0.0618\n",
            "Epoch 8/200\n",
            "9/9 [==============================] - 0s 50ms/step - loss: 4.4726 - accuracy: 0.0655\n",
            "Epoch 9/200\n",
            "9/9 [==============================] - 0s 47ms/step - loss: 4.4207 - accuracy: 0.0800\n",
            "Epoch 10/200\n",
            "9/9 [==============================] - 0s 11ms/step - loss: 4.3352 - accuracy: 0.0800\n",
            "Epoch 11/200\n",
            "9/9 [==============================] - 0s 31ms/step - loss: 4.2653 - accuracy: 0.0800\n",
            "Epoch 12/200\n",
            "9/9 [==============================] - 0s 49ms/step - loss: 4.2135 - accuracy: 0.0909\n",
            "Epoch 13/200\n",
            "9/9 [==============================] - 1s 48ms/step - loss: 4.1405 - accuracy: 0.1055\n",
            "Epoch 14/200\n",
            "9/9 [==============================] - 0s 11ms/step - loss: 4.0953 - accuracy: 0.0945\n",
            "Epoch 15/200\n",
            "9/9 [==============================] - 0s 29ms/step - loss: 4.0004 - accuracy: 0.0982\n",
            "Epoch 16/200\n",
            "9/9 [==============================] - 0s 10ms/step - loss: 3.9236 - accuracy: 0.0982\n",
            "Epoch 17/200\n",
            "9/9 [==============================] - 0s 49ms/step - loss: 3.8588 - accuracy: 0.1055\n",
            "Epoch 18/200\n",
            "9/9 [==============================] - 0s 11ms/step - loss: 3.7749 - accuracy: 0.1091\n",
            "Epoch 19/200\n",
            "9/9 [==============================] - 0s 11ms/step - loss: 3.7432 - accuracy: 0.1055\n",
            "Epoch 20/200\n",
            "9/9 [==============================] - 0s 10ms/step - loss: 3.6492 - accuracy: 0.1236\n",
            "Epoch 21/200\n",
            "9/9 [==============================] - 0s 9ms/step - loss: 3.5846 - accuracy: 0.1309\n",
            "Epoch 22/200\n",
            "9/9 [==============================] - 0s 9ms/step - loss: 3.5251 - accuracy: 0.1418\n",
            "Epoch 23/200\n",
            "9/9 [==============================] - 0s 8ms/step - loss: 3.4657 - accuracy: 0.1382\n",
            "Epoch 24/200\n",
            "9/9 [==============================] - 0s 9ms/step - loss: 3.3896 - accuracy: 0.1382\n",
            "Epoch 25/200\n",
            "9/9 [==============================] - 1s 66ms/step - loss: 3.3446 - accuracy: 0.1309\n",
            "Epoch 26/200\n",
            "9/9 [==============================] - 0s 9ms/step - loss: 3.2812 - accuracy: 0.1564\n",
            "Epoch 27/200\n",
            "9/9 [==============================] - 0s 8ms/step - loss: 3.2572 - accuracy: 0.1600\n",
            "Epoch 28/200\n",
            "9/9 [==============================] - 0s 8ms/step - loss: 3.2193 - accuracy: 0.1745\n",
            "Epoch 29/200\n",
            "9/9 [==============================] - 0s 8ms/step - loss: 3.1425 - accuracy: 0.1673\n",
            "Epoch 30/200\n",
            "9/9 [==============================] - 0s 8ms/step - loss: 3.0676 - accuracy: 0.1782\n",
            "Epoch 31/200\n",
            "9/9 [==============================] - 0s 8ms/step - loss: 2.9971 - accuracy: 0.2073\n",
            "Epoch 32/200\n",
            "9/9 [==============================] - 0s 27ms/step - loss: 2.9584 - accuracy: 0.1855\n",
            "Epoch 33/200\n",
            "9/9 [==============================] - 0s 29ms/step - loss: 2.9180 - accuracy: 0.1782\n",
            "Epoch 34/200\n",
            "9/9 [==============================] - 0s 30ms/step - loss: 2.8616 - accuracy: 0.2000\n",
            "Epoch 35/200\n",
            "9/9 [==============================] - 0s 9ms/step - loss: 2.8255 - accuracy: 0.1927\n",
            "Epoch 36/200\n",
            "9/9 [==============================] - 0s 28ms/step - loss: 2.7661 - accuracy: 0.2109\n",
            "Epoch 37/200\n",
            "9/9 [==============================] - 0s 9ms/step - loss: 2.7585 - accuracy: 0.2218\n",
            "Epoch 38/200\n",
            "9/9 [==============================] - 0s 9ms/step - loss: 2.6931 - accuracy: 0.2364\n",
            "Epoch 39/200\n",
            "9/9 [==============================] - 0s 8ms/step - loss: 2.6505 - accuracy: 0.2145\n",
            "Epoch 40/200\n",
            "9/9 [==============================] - 0s 9ms/step - loss: 2.5775 - accuracy: 0.2509\n",
            "Epoch 41/200\n",
            "9/9 [==============================] - 0s 8ms/step - loss: 2.5037 - accuracy: 0.2945\n",
            "Epoch 42/200\n",
            "9/9 [==============================] - 0s 8ms/step - loss: 2.4840 - accuracy: 0.2836\n",
            "Epoch 43/200\n",
            "9/9 [==============================] - 0s 10ms/step - loss: 2.4342 - accuracy: 0.2800\n",
            "Epoch 44/200\n",
            "9/9 [==============================] - 0s 27ms/step - loss: 2.3864 - accuracy: 0.3345\n",
            "Epoch 45/200\n",
            "9/9 [==============================] - 0s 8ms/step - loss: 2.3264 - accuracy: 0.3564\n",
            "Epoch 46/200\n",
            "9/9 [==============================] - 0s 8ms/step - loss: 2.2970 - accuracy: 0.3782\n",
            "Epoch 47/200\n",
            "9/9 [==============================] - 0s 9ms/step - loss: 2.2373 - accuracy: 0.3891\n",
            "Epoch 48/200\n",
            "9/9 [==============================] - 0s 9ms/step - loss: 2.2180 - accuracy: 0.3709\n",
            "Epoch 49/200\n",
            "9/9 [==============================] - 0s 8ms/step - loss: 2.2013 - accuracy: 0.3273\n",
            "Epoch 50/200\n",
            "9/9 [==============================] - 0s 8ms/step - loss: 2.1282 - accuracy: 0.4327\n",
            "Epoch 51/200\n",
            "9/9 [==============================] - 0s 8ms/step - loss: 2.0848 - accuracy: 0.4436\n",
            "Epoch 52/200\n",
            "9/9 [==============================] - 0s 8ms/step - loss: 2.0411 - accuracy: 0.4473\n",
            "Epoch 53/200\n",
            "9/9 [==============================] - 0s 9ms/step - loss: 2.0007 - accuracy: 0.4982\n",
            "Epoch 54/200\n",
            "9/9 [==============================] - 0s 8ms/step - loss: 1.9804 - accuracy: 0.4764\n",
            "Epoch 55/200\n",
            "9/9 [==============================] - 0s 8ms/step - loss: 1.9895 - accuracy: 0.4473\n",
            "Epoch 56/200\n",
            "9/9 [==============================] - 0s 8ms/step - loss: 2.0014 - accuracy: 0.4255\n",
            "Epoch 57/200\n",
            "9/9 [==============================] - 0s 12ms/step - loss: 1.9556 - accuracy: 0.4364\n",
            "Epoch 58/200\n",
            "9/9 [==============================] - 0s 11ms/step - loss: 1.8729 - accuracy: 0.5164\n",
            "Epoch 59/200\n",
            "9/9 [==============================] - 0s 11ms/step - loss: 1.8170 - accuracy: 0.5455\n",
            "Epoch 60/200\n",
            "9/9 [==============================] - 0s 11ms/step - loss: 1.7709 - accuracy: 0.5964\n",
            "Epoch 61/200\n",
            "9/9 [==============================] - 0s 11ms/step - loss: 1.7248 - accuracy: 0.6073\n",
            "Epoch 62/200\n",
            "9/9 [==============================] - 0s 11ms/step - loss: 1.6783 - accuracy: 0.6400\n",
            "Epoch 63/200\n",
            "9/9 [==============================] - 0s 11ms/step - loss: 1.6497 - accuracy: 0.6764\n",
            "Epoch 64/200\n",
            "9/9 [==============================] - 0s 13ms/step - loss: 1.6087 - accuracy: 0.7236\n",
            "Epoch 65/200\n",
            "9/9 [==============================] - 0s 11ms/step - loss: 1.5783 - accuracy: 0.6873\n",
            "Epoch 66/200\n",
            "9/9 [==============================] - 0s 10ms/step - loss: 1.5883 - accuracy: 0.6436\n",
            "Epoch 67/200\n",
            "9/9 [==============================] - 0s 11ms/step - loss: 1.6355 - accuracy: 0.5345\n",
            "Epoch 68/200\n",
            "9/9 [==============================] - 0s 42ms/step - loss: 1.6885 - accuracy: 0.5055\n",
            "Epoch 69/200\n",
            "9/9 [==============================] - 0s 12ms/step - loss: 1.6301 - accuracy: 0.5127\n",
            "Epoch 70/200\n",
            "9/9 [==============================] - 0s 43ms/step - loss: 1.5354 - accuracy: 0.6400\n",
            "Epoch 71/200\n",
            "9/9 [==============================] - 0s 12ms/step - loss: 1.4892 - accuracy: 0.6945\n",
            "Epoch 72/200\n",
            "9/9 [==============================] - 0s 9ms/step - loss: 1.4263 - accuracy: 0.7600\n",
            "Epoch 73/200\n",
            "9/9 [==============================] - 0s 9ms/step - loss: 1.3801 - accuracy: 0.8000\n",
            "Epoch 74/200\n",
            "9/9 [==============================] - 0s 9ms/step - loss: 1.3473 - accuracy: 0.8036\n",
            "Epoch 75/200\n",
            "9/9 [==============================] - 0s 9ms/step - loss: 1.3205 - accuracy: 0.8182\n",
            "Epoch 76/200\n",
            "9/9 [==============================] - 0s 8ms/step - loss: 1.2969 - accuracy: 0.8109\n",
            "Epoch 77/200\n",
            "9/9 [==============================] - 0s 8ms/step - loss: 1.2988 - accuracy: 0.7964\n",
            "Epoch 78/200\n",
            "9/9 [==============================] - 0s 9ms/step - loss: 1.2888 - accuracy: 0.7673\n",
            "Epoch 79/200\n",
            "9/9 [==============================] - 0s 8ms/step - loss: 1.2417 - accuracy: 0.8145\n",
            "Epoch 80/200\n",
            "9/9 [==============================] - 0s 9ms/step - loss: 1.2163 - accuracy: 0.8473\n",
            "Epoch 81/200\n",
            "9/9 [==============================] - 0s 27ms/step - loss: 1.1858 - accuracy: 0.8582\n",
            "Epoch 82/200\n",
            "9/9 [==============================] - 0s 8ms/step - loss: 1.1625 - accuracy: 0.8691\n",
            "Epoch 83/200\n",
            "9/9 [==============================] - 0s 9ms/step - loss: 1.1231 - accuracy: 0.8727\n",
            "Epoch 84/200\n",
            "9/9 [==============================] - 0s 8ms/step - loss: 1.1068 - accuracy: 0.9018\n",
            "Epoch 85/200\n",
            "9/9 [==============================] - 0s 9ms/step - loss: 1.1138 - accuracy: 0.8582\n",
            "Epoch 86/200\n",
            "9/9 [==============================] - 0s 8ms/step - loss: 1.1958 - accuracy: 0.7745\n",
            "Epoch 87/200\n",
            "9/9 [==============================] - 0s 9ms/step - loss: 1.1818 - accuracy: 0.7309\n",
            "Epoch 88/200\n",
            "9/9 [==============================] - 0s 8ms/step - loss: 1.1417 - accuracy: 0.7964\n",
            "Epoch 89/200\n",
            "9/9 [==============================] - 0s 8ms/step - loss: 1.1380 - accuracy: 0.8109\n",
            "Epoch 90/200\n",
            "9/9 [==============================] - 0s 9ms/step - loss: 1.0841 - accuracy: 0.8218\n",
            "Epoch 91/200\n",
            "9/9 [==============================] - 0s 9ms/step - loss: 1.0853 - accuracy: 0.7964\n",
            "Epoch 92/200\n",
            "9/9 [==============================] - 0s 8ms/step - loss: 1.0412 - accuracy: 0.8509\n",
            "Epoch 93/200\n",
            "9/9 [==============================] - 0s 8ms/step - loss: 1.0078 - accuracy: 0.8618\n",
            "Epoch 94/200\n",
            "9/9 [==============================] - 0s 8ms/step - loss: 0.9746 - accuracy: 0.8836\n",
            "Epoch 95/200\n",
            "9/9 [==============================] - 0s 9ms/step - loss: 0.9315 - accuracy: 0.9018\n",
            "Epoch 96/200\n",
            "9/9 [==============================] - 0s 8ms/step - loss: 0.9020 - accuracy: 0.9164\n",
            "Epoch 97/200\n",
            "9/9 [==============================] - 0s 9ms/step - loss: 0.8757 - accuracy: 0.9345\n",
            "Epoch 98/200\n",
            "9/9 [==============================] - 0s 8ms/step - loss: 0.8529 - accuracy: 0.9273\n",
            "Epoch 99/200\n",
            "9/9 [==============================] - 0s 8ms/step - loss: 0.8419 - accuracy: 0.9273\n",
            "Epoch 100/200\n",
            "9/9 [==============================] - 0s 8ms/step - loss: 0.8270 - accuracy: 0.9200\n",
            "Epoch 101/200\n",
            "9/9 [==============================] - 0s 9ms/step - loss: 0.8106 - accuracy: 0.9200\n",
            "Epoch 102/200\n",
            "9/9 [==============================] - 0s 8ms/step - loss: 0.7913 - accuracy: 0.9309\n",
            "Epoch 103/200\n",
            "9/9 [==============================] - 0s 10ms/step - loss: 0.7738 - accuracy: 0.9345\n",
            "Epoch 104/200\n",
            "9/9 [==============================] - 0s 8ms/step - loss: 0.7640 - accuracy: 0.9309\n",
            "Epoch 105/200\n",
            "9/9 [==============================] - 0s 28ms/step - loss: 0.7478 - accuracy: 0.9345\n",
            "Epoch 106/200\n",
            "9/9 [==============================] - 0s 9ms/step - loss: 0.7292 - accuracy: 0.9382\n",
            "Epoch 107/200\n",
            "9/9 [==============================] - 0s 9ms/step - loss: 0.7190 - accuracy: 0.9455\n",
            "Epoch 108/200\n",
            "9/9 [==============================] - 0s 9ms/step - loss: 0.7156 - accuracy: 0.9382\n",
            "Epoch 109/200\n",
            "9/9 [==============================] - 0s 9ms/step - loss: 0.6980 - accuracy: 0.9309\n",
            "Epoch 110/200\n",
            "9/9 [==============================] - 0s 9ms/step - loss: 0.6850 - accuracy: 0.9455\n",
            "Epoch 111/200\n",
            "9/9 [==============================] - 0s 8ms/step - loss: 0.6995 - accuracy: 0.9273\n",
            "Epoch 112/200\n",
            "9/9 [==============================] - 0s 8ms/step - loss: 0.6929 - accuracy: 0.9236\n",
            "Epoch 113/200\n",
            "9/9 [==============================] - 0s 9ms/step - loss: 0.6593 - accuracy: 0.9455\n",
            "Epoch 114/200\n",
            "9/9 [==============================] - 0s 8ms/step - loss: 0.6487 - accuracy: 0.9455\n",
            "Epoch 115/200\n",
            "9/9 [==============================] - 0s 8ms/step - loss: 0.6271 - accuracy: 0.9491\n",
            "Epoch 116/200\n",
            "9/9 [==============================] - 0s 28ms/step - loss: 0.6237 - accuracy: 0.9527\n",
            "Epoch 117/200\n",
            "9/9 [==============================] - 0s 10ms/step - loss: 0.6470 - accuracy: 0.9200\n",
            "Epoch 118/200\n",
            "9/9 [==============================] - 0s 9ms/step - loss: 0.6914 - accuracy: 0.9055\n",
            "Epoch 119/200\n",
            "9/9 [==============================] - 0s 8ms/step - loss: 0.7123 - accuracy: 0.9018\n",
            "Epoch 120/200\n",
            "9/9 [==============================] - 0s 9ms/step - loss: 0.6761 - accuracy: 0.8836\n",
            "Epoch 121/200\n",
            "9/9 [==============================] - 0s 8ms/step - loss: 0.6617 - accuracy: 0.9345\n",
            "Epoch 122/200\n",
            "9/9 [==============================] - 0s 8ms/step - loss: 0.6167 - accuracy: 0.9418\n",
            "Epoch 123/200\n",
            "9/9 [==============================] - 0s 12ms/step - loss: 0.5818 - accuracy: 0.9600\n",
            "Epoch 124/200\n",
            "9/9 [==============================] - 0s 9ms/step - loss: 0.5688 - accuracy: 0.9564\n",
            "Epoch 125/200\n",
            "9/9 [==============================] - 0s 9ms/step - loss: 0.5471 - accuracy: 0.9564\n",
            "Epoch 126/200\n",
            "9/9 [==============================] - 0s 9ms/step - loss: 0.5302 - accuracy: 0.9636\n",
            "Epoch 127/200\n",
            "9/9 [==============================] - 0s 9ms/step - loss: 0.5128 - accuracy: 0.9673\n",
            "Epoch 128/200\n",
            "9/9 [==============================] - 0s 9ms/step - loss: 0.4941 - accuracy: 0.9636\n",
            "Epoch 129/200\n",
            "9/9 [==============================] - 0s 9ms/step - loss: 0.4788 - accuracy: 0.9636\n",
            "Epoch 130/200\n",
            "9/9 [==============================] - 0s 8ms/step - loss: 0.4672 - accuracy: 0.9709\n",
            "Epoch 131/200\n",
            "9/9 [==============================] - 0s 9ms/step - loss: 0.4564 - accuracy: 0.9709\n",
            "Epoch 132/200\n",
            "9/9 [==============================] - 0s 9ms/step - loss: 0.4479 - accuracy: 0.9709\n",
            "Epoch 133/200\n",
            "9/9 [==============================] - 0s 8ms/step - loss: 0.4434 - accuracy: 0.9709\n",
            "Epoch 134/200\n",
            "9/9 [==============================] - 0s 9ms/step - loss: 0.4359 - accuracy: 0.9709\n",
            "Epoch 135/200\n",
            "9/9 [==============================] - 0s 10ms/step - loss: 0.4236 - accuracy: 0.9745\n",
            "Epoch 136/200\n",
            "9/9 [==============================] - 0s 8ms/step - loss: 0.4142 - accuracy: 0.9673\n",
            "Epoch 137/200\n",
            "9/9 [==============================] - 0s 8ms/step - loss: 0.4049 - accuracy: 0.9709\n",
            "Epoch 138/200\n",
            "9/9 [==============================] - 0s 9ms/step - loss: 0.3960 - accuracy: 0.9709\n",
            "Epoch 139/200\n",
            "9/9 [==============================] - 0s 8ms/step - loss: 0.3893 - accuracy: 0.9745\n",
            "Epoch 140/200\n",
            "9/9 [==============================] - 0s 9ms/step - loss: 0.3837 - accuracy: 0.9745\n",
            "Epoch 141/200\n",
            "9/9 [==============================] - 0s 8ms/step - loss: 0.3777 - accuracy: 0.9782\n",
            "Epoch 142/200\n",
            "9/9 [==============================] - 0s 9ms/step - loss: 0.3726 - accuracy: 0.9745\n",
            "Epoch 143/200\n",
            "9/9 [==============================] - 0s 9ms/step - loss: 0.3693 - accuracy: 0.9673\n",
            "Epoch 144/200\n",
            "9/9 [==============================] - 0s 9ms/step - loss: 0.3637 - accuracy: 0.9745\n",
            "Epoch 145/200\n",
            "9/9 [==============================] - 0s 8ms/step - loss: 0.3552 - accuracy: 0.9782\n",
            "Epoch 146/200\n",
            "9/9 [==============================] - 0s 9ms/step - loss: 0.3482 - accuracy: 0.9745\n",
            "Epoch 147/200\n",
            "9/9 [==============================] - 0s 28ms/step - loss: 0.3400 - accuracy: 0.9745\n",
            "Epoch 148/200\n",
            "9/9 [==============================] - 0s 8ms/step - loss: 0.3369 - accuracy: 0.9818\n",
            "Epoch 149/200\n",
            "9/9 [==============================] - 0s 8ms/step - loss: 0.3347 - accuracy: 0.9818\n",
            "Epoch 150/200\n",
            "9/9 [==============================] - 0s 9ms/step - loss: 0.3314 - accuracy: 0.9818\n",
            "Epoch 151/200\n",
            "9/9 [==============================] - 0s 9ms/step - loss: 0.3355 - accuracy: 0.9709\n",
            "Epoch 152/200\n",
            "9/9 [==============================] - 0s 8ms/step - loss: 0.3374 - accuracy: 0.9709\n",
            "Epoch 153/200\n",
            "9/9 [==============================] - 0s 27ms/step - loss: 0.3250 - accuracy: 0.9673\n",
            "Epoch 154/200\n",
            "9/9 [==============================] - 0s 29ms/step - loss: 0.3355 - accuracy: 0.9600\n",
            "Epoch 155/200\n",
            "9/9 [==============================] - 0s 9ms/step - loss: 0.3656 - accuracy: 0.9673\n",
            "Epoch 156/200\n",
            "9/9 [==============================] - 0s 8ms/step - loss: 0.3318 - accuracy: 0.9782\n",
            "Epoch 157/200\n",
            "9/9 [==============================] - 0s 9ms/step - loss: 0.3316 - accuracy: 0.9782\n",
            "Epoch 158/200\n",
            "9/9 [==============================] - 0s 9ms/step - loss: 0.3343 - accuracy: 0.9673\n",
            "Epoch 159/200\n",
            "9/9 [==============================] - 0s 9ms/step - loss: 0.3186 - accuracy: 0.9818\n",
            "Epoch 160/200\n",
            "9/9 [==============================] - 0s 9ms/step - loss: 0.3014 - accuracy: 0.9855\n",
            "Epoch 161/200\n",
            "9/9 [==============================] - 0s 9ms/step - loss: 0.2862 - accuracy: 0.9855\n",
            "Epoch 162/200\n",
            "9/9 [==============================] - 0s 9ms/step - loss: 0.2864 - accuracy: 0.9855\n",
            "Epoch 163/200\n",
            "9/9 [==============================] - 0s 9ms/step - loss: 0.3078 - accuracy: 0.9673\n",
            "Epoch 164/200\n",
            "9/9 [==============================] - 0s 8ms/step - loss: 0.3269 - accuracy: 0.9455\n",
            "Epoch 165/200\n",
            "9/9 [==============================] - 0s 8ms/step - loss: 0.3885 - accuracy: 0.9200\n",
            "Epoch 166/200\n",
            "9/9 [==============================] - 0s 9ms/step - loss: 0.3805 - accuracy: 0.9345\n",
            "Epoch 167/200\n",
            "9/9 [==============================] - 0s 8ms/step - loss: 0.3877 - accuracy: 0.9273\n",
            "Epoch 168/200\n",
            "9/9 [==============================] - 0s 9ms/step - loss: 0.3321 - accuracy: 0.9745\n",
            "Epoch 169/200\n",
            "9/9 [==============================] - 0s 9ms/step - loss: 0.3098 - accuracy: 0.9673\n",
            "Epoch 170/200\n",
            "9/9 [==============================] - 0s 9ms/step - loss: 0.2779 - accuracy: 0.9782\n",
            "Epoch 171/200\n",
            "9/9 [==============================] - 0s 28ms/step - loss: 0.2544 - accuracy: 0.9818\n",
            "Epoch 172/200\n",
            "9/9 [==============================] - 0s 9ms/step - loss: 0.2436 - accuracy: 0.9818\n",
            "Epoch 173/200\n",
            "9/9 [==============================] - 0s 8ms/step - loss: 0.2298 - accuracy: 0.9855\n",
            "Epoch 174/200\n",
            "9/9 [==============================] - 0s 9ms/step - loss: 0.2244 - accuracy: 0.9818\n",
            "Epoch 175/200\n",
            "9/9 [==============================] - 0s 9ms/step - loss: 0.2162 - accuracy: 0.9855\n",
            "Epoch 176/200\n",
            "9/9 [==============================] - 0s 9ms/step - loss: 0.2104 - accuracy: 0.9855\n",
            "Epoch 177/200\n",
            "9/9 [==============================] - 0s 13ms/step - loss: 0.2054 - accuracy: 0.9855\n",
            "Epoch 178/200\n",
            "9/9 [==============================] - 0s 12ms/step - loss: 0.2030 - accuracy: 0.9818\n",
            "Epoch 179/200\n",
            "9/9 [==============================] - 0s 12ms/step - loss: 0.1998 - accuracy: 0.9855\n",
            "Epoch 180/200\n",
            "9/9 [==============================] - 0s 12ms/step - loss: 0.1948 - accuracy: 0.9855\n",
            "Epoch 181/200\n",
            "9/9 [==============================] - 0s 11ms/step - loss: 0.1929 - accuracy: 0.9818\n",
            "Epoch 182/200\n",
            "9/9 [==============================] - 0s 11ms/step - loss: 0.1887 - accuracy: 0.9855\n",
            "Epoch 183/200\n",
            "9/9 [==============================] - 0s 11ms/step - loss: 0.1864 - accuracy: 0.9855\n",
            "Epoch 184/200\n",
            "9/9 [==============================] - 0s 11ms/step - loss: 0.1836 - accuracy: 0.9818\n",
            "Epoch 185/200\n",
            "9/9 [==============================] - 0s 11ms/step - loss: 0.1804 - accuracy: 0.9855\n",
            "Epoch 186/200\n",
            "9/9 [==============================] - 0s 13ms/step - loss: 0.1773 - accuracy: 0.9855\n",
            "Epoch 187/200\n",
            "9/9 [==============================] - 0s 11ms/step - loss: 0.1763 - accuracy: 0.9855\n",
            "Epoch 188/200\n",
            "9/9 [==============================] - 0s 11ms/step - loss: 0.1727 - accuracy: 0.9855\n",
            "Epoch 189/200\n",
            "9/9 [==============================] - 0s 12ms/step - loss: 0.1726 - accuracy: 0.9855\n",
            "Epoch 190/200\n",
            "9/9 [==============================] - 0s 12ms/step - loss: 0.1690 - accuracy: 0.9818\n",
            "Epoch 191/200\n",
            "9/9 [==============================] - 0s 11ms/step - loss: 0.1681 - accuracy: 0.9818\n",
            "Epoch 192/200\n",
            "9/9 [==============================] - 0s 12ms/step - loss: 0.1643 - accuracy: 0.9818\n",
            "Epoch 193/200\n",
            "9/9 [==============================] - 0s 12ms/step - loss: 0.1634 - accuracy: 0.9818\n",
            "Epoch 194/200\n",
            "9/9 [==============================] - 0s 12ms/step - loss: 0.1597 - accuracy: 0.9855\n",
            "Epoch 195/200\n",
            "9/9 [==============================] - 0s 12ms/step - loss: 0.1580 - accuracy: 0.9855\n",
            "Epoch 196/200\n",
            "9/9 [==============================] - 0s 12ms/step - loss: 0.1558 - accuracy: 0.9855\n",
            "Epoch 197/200\n",
            "9/9 [==============================] - 0s 9ms/step - loss: 0.1546 - accuracy: 0.9855\n",
            "Epoch 198/200\n",
            "9/9 [==============================] - 0s 9ms/step - loss: 0.1518 - accuracy: 0.9855\n",
            "Epoch 199/200\n",
            "9/9 [==============================] - 0s 9ms/step - loss: 0.1488 - accuracy: 0.9855\n",
            "Epoch 200/200\n",
            "9/9 [==============================] - 0s 9ms/step - loss: 0.1472 - accuracy: 0.9818\n"
          ]
        },
        {
          "output_type": "execute_result",
          "data": {
            "text/plain": [
              "<keras.src.callbacks.History at 0x7df2ca743820>"
            ]
          },
          "metadata": {},
          "execution_count": 18
        }
      ]
    },
    {
      "cell_type": "code",
      "source": [
        "import time\n",
        "import numpy as np\n",
        "text = \"Metridash uses\"\n",
        "\n",
        "for i in range(10):\n",
        "  # tokenize\n",
        "  token_text = tokenizer.texts_to_sequences([text])[0]\n",
        "  # padding\n",
        "  padded_token_text = pad_sequences([token_text], maxlen=41, padding='pre')\n",
        "  # predict\n",
        "  pos = np.argmax(model.predict(padded_token_text))\n",
        "\n",
        "  for word,index in tokenizer.word_index.items():\n",
        "    if index == pos:\n",
        "      text = text + \" \" + word\n",
        "      print(text)\n",
        "      time.sleep(2)"
      ],
      "metadata": {
        "id": "BELMaritL-X5",
        "colab": {
          "base_uri": "https://localhost:8080/"
        },
        "outputId": "85b705ab-f03f-4fce-8b9d-ee89cb7420d1"
      },
      "execution_count": 22,
      "outputs": [
        {
          "output_type": "stream",
          "name": "stdout",
          "text": [
            "1/1 [==============================] - 0s 20ms/step\n",
            "Metridash uses a\n",
            "1/1 [==============================] - 0s 32ms/step\n",
            "Metridash uses a proprietary\n",
            "1/1 [==============================] - 0s 21ms/step\n",
            "Metridash uses a proprietary algorithm\n",
            "1/1 [==============================] - 0s 20ms/step\n",
            "Metridash uses a proprietary algorithm that\n",
            "1/1 [==============================] - 0s 21ms/step\n",
            "Metridash uses a proprietary algorithm that takes\n",
            "1/1 [==============================] - 0s 19ms/step\n",
            "Metridash uses a proprietary algorithm that takes your\n",
            "1/1 [==============================] - 0s 21ms/step\n",
            "Metridash uses a proprietary algorithm that takes your niche\n",
            "1/1 [==============================] - 0s 19ms/step\n",
            "Metridash uses a proprietary algorithm that takes your niche target\n",
            "1/1 [==============================] - 0s 19ms/step\n",
            "Metridash uses a proprietary algorithm that takes your niche target audience\n",
            "1/1 [==============================] - 0s 19ms/step\n",
            "Metridash uses a proprietary algorithm that takes your niche target audience and\n"
          ]
        }
      ]
    },
    {
      "cell_type": "code",
      "source": [],
      "metadata": {
        "id": "iVgsVD6HVCMJ"
      },
      "execution_count": null,
      "outputs": []
    }
  ]
}