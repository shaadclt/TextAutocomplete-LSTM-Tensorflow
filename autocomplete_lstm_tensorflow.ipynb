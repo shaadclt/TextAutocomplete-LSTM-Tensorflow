{
  "nbformat": 4,
  "nbformat_minor": 0,
  "metadata": {
    "colab": {
      "provenance": [],
      "gpuType": "T4"
    },
    "kernelspec": {
      "name": "python3",
      "display_name": "Python 3"
    },
    "language_info": {
      "name": "python"
    },
    "accelerator": "GPU"
  },
  "cells": [
    {
      "cell_type": "code",
      "execution_count": null,
      "metadata": {
        "id": "6kxN6xHLH9dY"
      },
      "outputs": [],
      "source": [
        "faqs = \"\"\"\n",
        "What is Metridash?\n",
        "Metridash is an all-in-one content creation platform designed to empower creators like you. It combines AI-driven content generation, seamless multichannel publishing, content management, and real-time analytics to streamline your content creation process.\n",
        "How can Metridash help me as a creator?\n",
        "Metridash helps creators overcome creative blocks by generating personalized content ideas and prompts. It simplifies content management across multiple platforms, saving you time and effort. Additionally, it provides real-time analytics to help you track content performance and make data-driven decisions.\n",
        "Do I need to be tech-savvy to use Metridash?\n",
        "Not at all! Metridash is designed with user-friendliness in mind. Whether you're a tech guru or a beginner, you'll find our platform intuitive and easy to navigate.\n",
        "Can I use Metridash for different content platforms like YouTube, Instagram, and my TikTok?\n",
        "Absolutely! Metridash supports content creation and publishing across a wide range of platforms, including YouTube, Instagram, Twitter, Facebook, TikTok, LinkedIn, and blogs. You can manage all your content in one place.\n",
        "How does Metridash generate content ideas?\n",
        "Metridash uses a proprietary algorithm that takes your niche, target audience, and other details into account to generate personalized content ideas and prompts. It's like having a creative brainstorming partner at your side.\n",
        "Is my data safe with Metridash?\n",
        "We take data security seriously. Metridash employs robust security measures to protect your data. You can refer to our Privacy Policy for more details on how we handle and safeguard your information.\n",
        "How can I get started with Metridash?\n",
        "Getting started is easy. Simply sign up for a Metridash account, and you'll gain access to a world of content creation possibilities. We offer both free and premium plans to suit your needs.\n",
        "\"\"\""
      ]
    },
    {
      "cell_type": "code",
      "source": [
        "import tensorflow\n",
        "from tensorflow.keras.preprocessing.text import Tokenizer"
      ],
      "metadata": {
        "id": "ZUIFXBYDIiDt"
      },
      "execution_count": null,
      "outputs": []
    },
    {
      "cell_type": "code",
      "source": [
        "tokenizer = Tokenizer()"
      ],
      "metadata": {
        "id": "FuXsTLj8IrFZ"
      },
      "execution_count": null,
      "outputs": []
    },
    {
      "cell_type": "code",
      "source": [
        "tokenizer.fit_on_texts([faqs])"
      ],
      "metadata": {
        "id": "cNrZcSdlI0GL"
      },
      "execution_count": null,
      "outputs": []
    },
    {
      "cell_type": "code",
      "source": [
        "len(tokenizer.word_index)"
      ],
      "metadata": {
        "colab": {
          "base_uri": "https://localhost:8080/"
        },
        "id": "mMnQhv3-I5RD",
        "outputId": "d1047de0-ed89-4157-d839-83de26453ea4"
      },
      "execution_count": null,
      "outputs": [
        {
          "output_type": "execute_result",
          "data": {
            "text/plain": [
              "156"
            ]
          },
          "metadata": {},
          "execution_count": 5
        }
      ]
    },
    {
      "cell_type": "code",
      "source": [
        "input_sequences = []\n",
        "for sentence in faqs.split('\\n'):\n",
        "  tokenized_sentence = tokenizer.texts_to_sequences([sentence])[0]\n",
        "\n",
        "  for i in range(1,len(tokenized_sentence)):\n",
        "    input_sequences.append(tokenized_sentence[:i+1])"
      ],
      "metadata": {
        "id": "16NwHR-kI9Tr"
      },
      "execution_count": null,
      "outputs": []
    },
    {
      "cell_type": "code",
      "source": [
        "max_len = max([len(x) for x in input_sequences])"
      ],
      "metadata": {
        "id": "_z7DiEviJdib"
      },
      "execution_count": null,
      "outputs": []
    },
    {
      "cell_type": "code",
      "source": [
        "from tensorflow.keras.preprocessing.sequence import pad_sequences\n",
        "padded_input_sequences = pad_sequences(input_sequences,maxlen = max_len, padding='pre')"
      ],
      "metadata": {
        "id": "UdijwiThJmMQ"
      },
      "execution_count": null,
      "outputs": []
    },
    {
      "cell_type": "code",
      "source": [
        "X = padded_input_sequences[:,:-1]\n",
        "y = padded_input_sequences[:,-1]"
      ],
      "metadata": {
        "id": "U_HC6JsrJ2vj"
      },
      "execution_count": null,
      "outputs": []
    },
    {
      "cell_type": "code",
      "source": [
        "X.shape"
      ],
      "metadata": {
        "colab": {
          "base_uri": "https://localhost:8080/"
        },
        "id": "gz3mTfrPKUKb",
        "outputId": "04b842a1-1f7a-48a9-b27f-1b9b3dc7dbd0"
      },
      "execution_count": null,
      "outputs": [
        {
          "output_type": "execute_result",
          "data": {
            "text/plain": [
              "(275, 41)"
            ]
          },
          "metadata": {},
          "execution_count": 12
        }
      ]
    },
    {
      "cell_type": "code",
      "source": [
        "y.shape"
      ],
      "metadata": {
        "colab": {
          "base_uri": "https://localhost:8080/"
        },
        "id": "38mahrJXKX8q",
        "outputId": "2724d934-a6e0-4557-9058-0d41b3472365"
      },
      "execution_count": null,
      "outputs": [
        {
          "output_type": "execute_result",
          "data": {
            "text/plain": [
              "(275,)"
            ]
          },
          "metadata": {},
          "execution_count": 13
        }
      ]
    },
    {
      "cell_type": "code",
      "source": [
        "from tensorflow.keras.utils import to_categorical\n",
        "y = to_categorical(y,num_classes=157)"
      ],
      "metadata": {
        "id": "8vwMA6ayKdkz"
      },
      "execution_count": null,
      "outputs": []
    },
    {
      "cell_type": "code",
      "source": [
        "y.shape"
      ],
      "metadata": {
        "colab": {
          "base_uri": "https://localhost:8080/"
        },
        "id": "73FfQg2dKzPr",
        "outputId": "40541c03-4e5d-4dc3-9ac1-6b4e5b895725"
      },
      "execution_count": null,
      "outputs": [
        {
          "output_type": "execute_result",
          "data": {
            "text/plain": [
              "(275, 157)"
            ]
          },
          "metadata": {},
          "execution_count": 15
        }
      ]
    },
    {
      "cell_type": "code",
      "source": [
        "from tensorflow.keras.models import Sequential\n",
        "from tensorflow.keras.layers import Embedding, LSTM, Dense"
      ],
      "metadata": {
        "id": "KbI4nb-BK0aT"
      },
      "execution_count": null,
      "outputs": []
    },
    {
      "cell_type": "code",
      "source": [
        "model = Sequential()\n",
        "model.add(Embedding(157,100,input_length=41))\n",
        "model.add(LSTM(150, return_sequences=True))\n",
        "model.add(LSTM(150))\n",
        "model.add(Dense(157,activation='softmax'))"
      ],
      "metadata": {
        "id": "K98lFqW4LAjG"
      },
      "execution_count": null,
      "outputs": []
    },
    {
      "cell_type": "code",
      "source": [
        "model.compile(loss='categorical_crossentropy',optimizer='adam',metrics=['accuracy'])"
      ],
      "metadata": {
        "id": "UtujjtShLXsL"
      },
      "execution_count": null,
      "outputs": []
    },
    {
      "cell_type": "code",
      "source": [
        "model.summary()"
      ],
      "metadata": {
        "colab": {
          "base_uri": "https://localhost:8080/"
        },
        "id": "ZVah1uVeL1_x",
        "outputId": "7895bc34-ba9d-401b-8459-f4ed4974ae4a"
      },
      "execution_count": null,
      "outputs": [
        {
          "output_type": "stream",
          "name": "stdout",
          "text": [
            "Model: \"sequential_2\"\n",
            "_________________________________________________________________\n",
            " Layer (type)                Output Shape              Param #   \n",
            "=================================================================\n",
            " embedding_2 (Embedding)     (None, 41, 100)           15700     \n",
            "                                                                 \n",
            " lstm_4 (LSTM)               (None, 41, 150)           150600    \n",
            "                                                                 \n",
            " lstm_5 (LSTM)               (None, 150)               180600    \n",
            "                                                                 \n",
            " dense_1 (Dense)             (None, 157)               23707     \n",
            "                                                                 \n",
            "=================================================================\n",
            "Total params: 370607 (1.41 MB)\n",
            "Trainable params: 370607 (1.41 MB)\n",
            "Non-trainable params: 0 (0.00 Byte)\n",
            "_________________________________________________________________\n"
          ]
        }
      ]
    },
    {
      "cell_type": "code",
      "source": [
        "model.fit(X,y,epochs=200)"
      ],
      "metadata": {
        "colab": {
          "base_uri": "https://localhost:8080/"
        },
        "id": "v_OSg_rvL3wB",
        "outputId": "b1fc2807-c8a4-4956-a64d-685e52f56495"
      },
      "execution_count": null,
      "outputs": [
        {
          "output_type": "stream",
          "name": "stdout",
          "text": [
            "Epoch 1/200\n",
            "9/9 [==============================] - 0s 12ms/step - loss: 0.7174 - accuracy: 0.9455\n",
            "Epoch 2/200\n",
            "9/9 [==============================] - 0s 14ms/step - loss: 0.7029 - accuracy: 0.9418\n",
            "Epoch 3/200\n",
            "9/9 [==============================] - 0s 13ms/step - loss: 0.6933 - accuracy: 0.9564\n",
            "Epoch 4/200\n",
            "9/9 [==============================] - 0s 12ms/step - loss: 0.6726 - accuracy: 0.9418\n",
            "Epoch 5/200\n",
            "9/9 [==============================] - 0s 11ms/step - loss: 0.6806 - accuracy: 0.9200\n",
            "Epoch 6/200\n",
            "9/9 [==============================] - 0s 14ms/step - loss: 0.6586 - accuracy: 0.9455\n",
            "Epoch 7/200\n",
            "9/9 [==============================] - 0s 11ms/step - loss: 0.6560 - accuracy: 0.9491\n",
            "Epoch 8/200\n",
            "9/9 [==============================] - 0s 40ms/step - loss: 0.6460 - accuracy: 0.9527\n",
            "Epoch 9/200\n",
            "9/9 [==============================] - 0s 11ms/step - loss: 0.6276 - accuracy: 0.9491\n",
            "Epoch 10/200\n",
            "9/9 [==============================] - 0s 12ms/step - loss: 0.6000 - accuracy: 0.9564\n",
            "Epoch 11/200\n",
            "9/9 [==============================] - 0s 12ms/step - loss: 0.5928 - accuracy: 0.9600\n",
            "Epoch 12/200\n",
            "9/9 [==============================] - 0s 12ms/step - loss: 0.5945 - accuracy: 0.9527\n",
            "Epoch 13/200\n",
            "9/9 [==============================] - 0s 11ms/step - loss: 0.5853 - accuracy: 0.9491\n",
            "Epoch 14/200\n",
            "9/9 [==============================] - 0s 13ms/step - loss: 0.5857 - accuracy: 0.9491\n",
            "Epoch 15/200\n",
            "9/9 [==============================] - 0s 12ms/step - loss: 0.6521 - accuracy: 0.8764\n",
            "Epoch 16/200\n",
            "9/9 [==============================] - 0s 11ms/step - loss: 0.6526 - accuracy: 0.8800\n",
            "Epoch 17/200\n",
            "9/9 [==============================] - 0s 9ms/step - loss: 0.6169 - accuracy: 0.9236\n",
            "Epoch 18/200\n",
            "9/9 [==============================] - 0s 9ms/step - loss: 0.6094 - accuracy: 0.9236\n",
            "Epoch 19/200\n",
            "9/9 [==============================] - 0s 9ms/step - loss: 0.5991 - accuracy: 0.9164\n",
            "Epoch 20/200\n",
            "9/9 [==============================] - 0s 9ms/step - loss: 0.5761 - accuracy: 0.9309\n",
            "Epoch 21/200\n",
            "9/9 [==============================] - 0s 9ms/step - loss: 0.5437 - accuracy: 0.9382\n",
            "Epoch 22/200\n",
            "9/9 [==============================] - 0s 9ms/step - loss: 0.5069 - accuracy: 0.9600\n",
            "Epoch 23/200\n",
            "9/9 [==============================] - 0s 9ms/step - loss: 0.4898 - accuracy: 0.9709\n",
            "Epoch 24/200\n",
            "9/9 [==============================] - 0s 9ms/step - loss: 0.4791 - accuracy: 0.9636\n",
            "Epoch 25/200\n",
            "9/9 [==============================] - 0s 9ms/step - loss: 0.4664 - accuracy: 0.9745\n",
            "Epoch 26/200\n",
            "9/9 [==============================] - 0s 9ms/step - loss: 0.4543 - accuracy: 0.9745\n",
            "Epoch 27/200\n",
            "9/9 [==============================] - 0s 9ms/step - loss: 0.4458 - accuracy: 0.9745\n",
            "Epoch 28/200\n",
            "9/9 [==============================] - 0s 9ms/step - loss: 0.4292 - accuracy: 0.9782\n",
            "Epoch 29/200\n",
            "9/9 [==============================] - 0s 10ms/step - loss: 0.4240 - accuracy: 0.9782\n",
            "Epoch 30/200\n",
            "9/9 [==============================] - 0s 9ms/step - loss: 0.4134 - accuracy: 0.9855\n",
            "Epoch 31/200\n",
            "9/9 [==============================] - 0s 8ms/step - loss: 0.4036 - accuracy: 0.9855\n",
            "Epoch 32/200\n",
            "9/9 [==============================] - 0s 9ms/step - loss: 0.3928 - accuracy: 0.9782\n",
            "Epoch 33/200\n",
            "9/9 [==============================] - 0s 8ms/step - loss: 0.3924 - accuracy: 0.9818\n",
            "Epoch 34/200\n",
            "9/9 [==============================] - 0s 8ms/step - loss: 0.3790 - accuracy: 0.9855\n",
            "Epoch 35/200\n",
            "9/9 [==============================] - 0s 8ms/step - loss: 0.3740 - accuracy: 0.9855\n",
            "Epoch 36/200\n",
            "9/9 [==============================] - 0s 8ms/step - loss: 0.3664 - accuracy: 0.9818\n",
            "Epoch 37/200\n",
            "9/9 [==============================] - 0s 9ms/step - loss: 0.3616 - accuracy: 0.9818\n",
            "Epoch 38/200\n",
            "9/9 [==============================] - 0s 8ms/step - loss: 0.3562 - accuracy: 0.9855\n",
            "Epoch 39/200\n",
            "9/9 [==============================] - 0s 8ms/step - loss: 0.3522 - accuracy: 0.9855\n",
            "Epoch 40/200\n",
            "9/9 [==============================] - 0s 8ms/step - loss: 0.3490 - accuracy: 0.9855\n",
            "Epoch 41/200\n",
            "9/9 [==============================] - 0s 12ms/step - loss: 0.3481 - accuracy: 0.9818\n",
            "Epoch 42/200\n",
            "9/9 [==============================] - 0s 8ms/step - loss: 0.3515 - accuracy: 0.9782\n",
            "Epoch 43/200\n",
            "9/9 [==============================] - 0s 8ms/step - loss: 0.3482 - accuracy: 0.9855\n",
            "Epoch 44/200\n",
            "9/9 [==============================] - 0s 8ms/step - loss: 0.3491 - accuracy: 0.9782\n",
            "Epoch 45/200\n",
            "9/9 [==============================] - 0s 8ms/step - loss: 0.3442 - accuracy: 0.9782\n",
            "Epoch 46/200\n",
            "9/9 [==============================] - 0s 8ms/step - loss: 0.4079 - accuracy: 0.9309\n",
            "Epoch 47/200\n",
            "9/9 [==============================] - 0s 8ms/step - loss: 0.3955 - accuracy: 0.9491\n",
            "Epoch 48/200\n",
            "9/9 [==============================] - 0s 9ms/step - loss: 0.4315 - accuracy: 0.9236\n",
            "Epoch 49/200\n",
            "9/9 [==============================] - 0s 8ms/step - loss: 0.4019 - accuracy: 0.9491\n",
            "Epoch 50/200\n",
            "9/9 [==============================] - 0s 8ms/step - loss: 0.3642 - accuracy: 0.9709\n",
            "Epoch 51/200\n",
            "9/9 [==============================] - 0s 8ms/step - loss: 0.3263 - accuracy: 0.9818\n",
            "Epoch 52/200\n",
            "9/9 [==============================] - 0s 8ms/step - loss: 0.3321 - accuracy: 0.9782\n",
            "Epoch 53/200\n",
            "9/9 [==============================] - 0s 8ms/step - loss: 0.3183 - accuracy: 0.9745\n",
            "Epoch 54/200\n",
            "9/9 [==============================] - 0s 9ms/step - loss: 0.3140 - accuracy: 0.9745\n",
            "Epoch 55/200\n",
            "9/9 [==============================] - 0s 8ms/step - loss: 0.3013 - accuracy: 0.9818\n",
            "Epoch 56/200\n",
            "9/9 [==============================] - 0s 8ms/step - loss: 0.2896 - accuracy: 0.9855\n",
            "Epoch 57/200\n",
            "9/9 [==============================] - 0s 8ms/step - loss: 0.2814 - accuracy: 0.9782\n",
            "Epoch 58/200\n",
            "9/9 [==============================] - 0s 8ms/step - loss: 0.2862 - accuracy: 0.9745\n",
            "Epoch 59/200\n",
            "9/9 [==============================] - 0s 8ms/step - loss: 0.2647 - accuracy: 0.9855\n",
            "Epoch 60/200\n",
            "9/9 [==============================] - 0s 8ms/step - loss: 0.2551 - accuracy: 0.9855\n",
            "Epoch 61/200\n",
            "9/9 [==============================] - 0s 8ms/step - loss: 0.2480 - accuracy: 0.9855\n",
            "Epoch 62/200\n",
            "9/9 [==============================] - 0s 8ms/step - loss: 0.2442 - accuracy: 0.9855\n",
            "Epoch 63/200\n",
            "9/9 [==============================] - 0s 8ms/step - loss: 0.2432 - accuracy: 0.9818\n",
            "Epoch 64/200\n",
            "9/9 [==============================] - 0s 8ms/step - loss: 0.2377 - accuracy: 0.9818\n",
            "Epoch 65/200\n",
            "9/9 [==============================] - 0s 29ms/step - loss: 0.2321 - accuracy: 0.9855\n",
            "Epoch 66/200\n",
            "9/9 [==============================] - 0s 9ms/step - loss: 0.2284 - accuracy: 0.9855\n",
            "Epoch 67/200\n",
            "9/9 [==============================] - 0s 8ms/step - loss: 0.2265 - accuracy: 0.9855\n",
            "Epoch 68/200\n",
            "9/9 [==============================] - 0s 9ms/step - loss: 0.2223 - accuracy: 0.9818\n",
            "Epoch 69/200\n",
            "9/9 [==============================] - 0s 9ms/step - loss: 0.2170 - accuracy: 0.9782\n",
            "Epoch 70/200\n",
            "9/9 [==============================] - 0s 8ms/step - loss: 0.2135 - accuracy: 0.9818\n",
            "Epoch 71/200\n",
            "9/9 [==============================] - 0s 8ms/step - loss: 0.2094 - accuracy: 0.9855\n",
            "Epoch 72/200\n",
            "9/9 [==============================] - 0s 8ms/step - loss: 0.2064 - accuracy: 0.9855\n",
            "Epoch 73/200\n",
            "9/9 [==============================] - 0s 8ms/step - loss: 0.2037 - accuracy: 0.9855\n",
            "Epoch 74/200\n",
            "9/9 [==============================] - 0s 8ms/step - loss: 0.2017 - accuracy: 0.9818\n",
            "Epoch 75/200\n",
            "9/9 [==============================] - 0s 8ms/step - loss: 0.1981 - accuracy: 0.9782\n",
            "Epoch 76/200\n",
            "9/9 [==============================] - 0s 8ms/step - loss: 0.1959 - accuracy: 0.9855\n",
            "Epoch 77/200\n",
            "9/9 [==============================] - 0s 8ms/step - loss: 0.1924 - accuracy: 0.9855\n",
            "Epoch 78/200\n",
            "9/9 [==============================] - 0s 9ms/step - loss: 0.1920 - accuracy: 0.9818\n",
            "Epoch 79/200\n",
            "9/9 [==============================] - 0s 8ms/step - loss: 0.1875 - accuracy: 0.9818\n",
            "Epoch 80/200\n",
            "9/9 [==============================] - 0s 8ms/step - loss: 0.1859 - accuracy: 0.9818\n",
            "Epoch 81/200\n",
            "9/9 [==============================] - 0s 8ms/step - loss: 0.1827 - accuracy: 0.9818\n",
            "Epoch 82/200\n",
            "9/9 [==============================] - 0s 8ms/step - loss: 0.1807 - accuracy: 0.9818\n",
            "Epoch 83/200\n",
            "9/9 [==============================] - 0s 9ms/step - loss: 0.1775 - accuracy: 0.9818\n",
            "Epoch 84/200\n",
            "9/9 [==============================] - 0s 8ms/step - loss: 0.1727 - accuracy: 0.9855\n",
            "Epoch 85/200\n",
            "9/9 [==============================] - 0s 27ms/step - loss: 0.1717 - accuracy: 0.9818\n",
            "Epoch 86/200\n",
            "9/9 [==============================] - 0s 9ms/step - loss: 0.1694 - accuracy: 0.9818\n",
            "Epoch 87/200\n",
            "9/9 [==============================] - 0s 28ms/step - loss: 0.1676 - accuracy: 0.9855\n",
            "Epoch 88/200\n",
            "9/9 [==============================] - 0s 9ms/step - loss: 0.1677 - accuracy: 0.9818\n",
            "Epoch 89/200\n",
            "9/9 [==============================] - 0s 9ms/step - loss: 0.1694 - accuracy: 0.9782\n",
            "Epoch 90/200\n",
            "9/9 [==============================] - 0s 10ms/step - loss: 0.1679 - accuracy: 0.9855\n",
            "Epoch 91/200\n",
            "9/9 [==============================] - 0s 10ms/step - loss: 0.1630 - accuracy: 0.9855\n",
            "Epoch 92/200\n",
            "9/9 [==============================] - 0s 10ms/step - loss: 0.1637 - accuracy: 0.9782\n",
            "Epoch 93/200\n",
            "9/9 [==============================] - 0s 9ms/step - loss: 0.1668 - accuracy: 0.9782\n",
            "Epoch 94/200\n",
            "9/9 [==============================] - 0s 10ms/step - loss: 0.1654 - accuracy: 0.9855\n",
            "Epoch 95/200\n",
            "9/9 [==============================] - 0s 29ms/step - loss: 0.1582 - accuracy: 0.9782\n",
            "Epoch 96/200\n",
            "9/9 [==============================] - 0s 11ms/step - loss: 0.1542 - accuracy: 0.9818\n",
            "Epoch 97/200\n",
            "9/9 [==============================] - 0s 9ms/step - loss: 0.1519 - accuracy: 0.9855\n",
            "Epoch 98/200\n",
            "9/9 [==============================] - 0s 9ms/step - loss: 0.1492 - accuracy: 0.9855\n",
            "Epoch 99/200\n",
            "9/9 [==============================] - 0s 9ms/step - loss: 0.1496 - accuracy: 0.9855\n",
            "Epoch 100/200\n",
            "9/9 [==============================] - 0s 9ms/step - loss: 0.1476 - accuracy: 0.9855\n",
            "Epoch 101/200\n",
            "9/9 [==============================] - 0s 9ms/step - loss: 0.1503 - accuracy: 0.9818\n",
            "Epoch 102/200\n",
            "9/9 [==============================] - 0s 9ms/step - loss: 0.1538 - accuracy: 0.9855\n",
            "Epoch 103/200\n",
            "9/9 [==============================] - 0s 8ms/step - loss: 0.1516 - accuracy: 0.9818\n",
            "Epoch 104/200\n",
            "9/9 [==============================] - 0s 8ms/step - loss: 0.1653 - accuracy: 0.9818\n",
            "Epoch 105/200\n",
            "9/9 [==============================] - 0s 9ms/step - loss: 0.1993 - accuracy: 0.9600\n",
            "Epoch 106/200\n",
            "9/9 [==============================] - 0s 8ms/step - loss: 0.2006 - accuracy: 0.9600\n",
            "Epoch 107/200\n",
            "9/9 [==============================] - 0s 8ms/step - loss: 0.4535 - accuracy: 0.8473\n",
            "Epoch 108/200\n",
            "9/9 [==============================] - 0s 9ms/step - loss: 0.5491 - accuracy: 0.8145\n",
            "Epoch 109/200\n",
            "9/9 [==============================] - 0s 8ms/step - loss: 0.4815 - accuracy: 0.8473\n",
            "Epoch 110/200\n",
            "9/9 [==============================] - 0s 9ms/step - loss: 0.3802 - accuracy: 0.9018\n",
            "Epoch 111/200\n",
            "9/9 [==============================] - 0s 10ms/step - loss: 0.2877 - accuracy: 0.9527\n",
            "Epoch 112/200\n",
            "9/9 [==============================] - 0s 9ms/step - loss: 0.2311 - accuracy: 0.9709\n",
            "Epoch 113/200\n",
            "9/9 [==============================] - 0s 9ms/step - loss: 0.2129 - accuracy: 0.9745\n",
            "Epoch 114/200\n",
            "9/9 [==============================] - 0s 10ms/step - loss: 0.1781 - accuracy: 0.9782\n",
            "Epoch 115/200\n",
            "9/9 [==============================] - 0s 9ms/step - loss: 0.1718 - accuracy: 0.9818\n",
            "Epoch 116/200\n",
            "9/9 [==============================] - 0s 9ms/step - loss: 0.1589 - accuracy: 0.9782\n",
            "Epoch 117/200\n",
            "9/9 [==============================] - 0s 29ms/step - loss: 0.1596 - accuracy: 0.9782\n",
            "Epoch 118/200\n",
            "9/9 [==============================] - 0s 9ms/step - loss: 0.1500 - accuracy: 0.9818\n",
            "Epoch 119/200\n",
            "9/9 [==============================] - 0s 9ms/step - loss: 0.1415 - accuracy: 0.9855\n",
            "Epoch 120/200\n",
            "9/9 [==============================] - 0s 8ms/step - loss: 0.1352 - accuracy: 0.9855\n",
            "Epoch 121/200\n",
            "9/9 [==============================] - 0s 9ms/step - loss: 0.1280 - accuracy: 0.9818\n",
            "Epoch 122/200\n",
            "9/9 [==============================] - 0s 9ms/step - loss: 0.1236 - accuracy: 0.9818\n",
            "Epoch 123/200\n",
            "9/9 [==============================] - 0s 8ms/step - loss: 0.1233 - accuracy: 0.9818\n",
            "Epoch 124/200\n",
            "9/9 [==============================] - 0s 15ms/step - loss: 0.1184 - accuracy: 0.9818\n",
            "Epoch 125/200\n",
            "9/9 [==============================] - 0s 13ms/step - loss: 0.1170 - accuracy: 0.9818\n",
            "Epoch 126/200\n",
            "9/9 [==============================] - 0s 12ms/step - loss: 0.1160 - accuracy: 0.9855\n",
            "Epoch 127/200\n",
            "9/9 [==============================] - 0s 12ms/step - loss: 0.1131 - accuracy: 0.9818\n",
            "Epoch 128/200\n",
            "9/9 [==============================] - 0s 12ms/step - loss: 0.1108 - accuracy: 0.9855\n",
            "Epoch 129/200\n",
            "9/9 [==============================] - 0s 11ms/step - loss: 0.1092 - accuracy: 0.9855\n",
            "Epoch 130/200\n",
            "9/9 [==============================] - 0s 12ms/step - loss: 0.1086 - accuracy: 0.9818\n",
            "Epoch 131/200\n",
            "9/9 [==============================] - 0s 11ms/step - loss: 0.1069 - accuracy: 0.9855\n",
            "Epoch 132/200\n",
            "9/9 [==============================] - 0s 11ms/step - loss: 0.1055 - accuracy: 0.9855\n",
            "Epoch 133/200\n",
            "9/9 [==============================] - 0s 11ms/step - loss: 0.1043 - accuracy: 0.9818\n",
            "Epoch 134/200\n",
            "9/9 [==============================] - 0s 12ms/step - loss: 0.1046 - accuracy: 0.9818\n",
            "Epoch 135/200\n",
            "9/9 [==============================] - 0s 12ms/step - loss: 0.1033 - accuracy: 0.9818\n",
            "Epoch 136/200\n",
            "9/9 [==============================] - 0s 12ms/step - loss: 0.1016 - accuracy: 0.9818\n",
            "Epoch 137/200\n",
            "9/9 [==============================] - 0s 12ms/step - loss: 0.1002 - accuracy: 0.9855\n",
            "Epoch 138/200\n",
            "9/9 [==============================] - 0s 12ms/step - loss: 0.1016 - accuracy: 0.9818\n",
            "Epoch 139/200\n",
            "9/9 [==============================] - 0s 13ms/step - loss: 0.0979 - accuracy: 0.9818\n",
            "Epoch 140/200\n",
            "9/9 [==============================] - 0s 11ms/step - loss: 0.0968 - accuracy: 0.9855\n",
            "Epoch 141/200\n",
            "9/9 [==============================] - 0s 12ms/step - loss: 0.0984 - accuracy: 0.9818\n",
            "Epoch 142/200\n",
            "9/9 [==============================] - 0s 9ms/step - loss: 0.0947 - accuracy: 0.9855\n",
            "Epoch 143/200\n",
            "9/9 [==============================] - 0s 9ms/step - loss: 0.0950 - accuracy: 0.9818\n",
            "Epoch 144/200\n",
            "9/9 [==============================] - 0s 10ms/step - loss: 0.0940 - accuracy: 0.9818\n",
            "Epoch 145/200\n",
            "9/9 [==============================] - 0s 10ms/step - loss: 0.0944 - accuracy: 0.9818\n",
            "Epoch 146/200\n",
            "9/9 [==============================] - 0s 10ms/step - loss: 0.0928 - accuracy: 0.9818\n",
            "Epoch 147/200\n",
            "9/9 [==============================] - 0s 9ms/step - loss: 0.0912 - accuracy: 0.9818\n",
            "Epoch 148/200\n",
            "9/9 [==============================] - 0s 10ms/step - loss: 0.0908 - accuracy: 0.9855\n",
            "Epoch 149/200\n",
            "9/9 [==============================] - 0s 9ms/step - loss: 0.0898 - accuracy: 0.9782\n",
            "Epoch 150/200\n",
            "9/9 [==============================] - 0s 29ms/step - loss: 0.0886 - accuracy: 0.9818\n",
            "Epoch 151/200\n",
            "9/9 [==============================] - 0s 9ms/step - loss: 0.0887 - accuracy: 0.9818\n",
            "Epoch 152/200\n",
            "9/9 [==============================] - 0s 8ms/step - loss: 0.0872 - accuracy: 0.9855\n",
            "Epoch 153/200\n",
            "9/9 [==============================] - 0s 8ms/step - loss: 0.0858 - accuracy: 0.9818\n",
            "Epoch 154/200\n",
            "9/9 [==============================] - 0s 8ms/step - loss: 0.0862 - accuracy: 0.9818\n",
            "Epoch 155/200\n",
            "9/9 [==============================] - 0s 8ms/step - loss: 0.0845 - accuracy: 0.9855\n",
            "Epoch 156/200\n",
            "9/9 [==============================] - 0s 9ms/step - loss: 0.0839 - accuracy: 0.9818\n",
            "Epoch 157/200\n",
            "9/9 [==============================] - 0s 9ms/step - loss: 0.0833 - accuracy: 0.9818\n",
            "Epoch 158/200\n",
            "9/9 [==============================] - 0s 9ms/step - loss: 0.0825 - accuracy: 0.9855\n",
            "Epoch 159/200\n",
            "9/9 [==============================] - 0s 9ms/step - loss: 0.0836 - accuracy: 0.9818\n",
            "Epoch 160/200\n",
            "9/9 [==============================] - 0s 8ms/step - loss: 0.0812 - accuracy: 0.9818\n",
            "Epoch 161/200\n",
            "9/9 [==============================] - 0s 8ms/step - loss: 0.0807 - accuracy: 0.9855\n",
            "Epoch 162/200\n",
            "9/9 [==============================] - 0s 9ms/step - loss: 0.0808 - accuracy: 0.9855\n",
            "Epoch 163/200\n",
            "9/9 [==============================] - 0s 8ms/step - loss: 0.0793 - accuracy: 0.9855\n",
            "Epoch 164/200\n",
            "9/9 [==============================] - 0s 8ms/step - loss: 0.0789 - accuracy: 0.9855\n",
            "Epoch 165/200\n",
            "9/9 [==============================] - 0s 8ms/step - loss: 0.0788 - accuracy: 0.9818\n",
            "Epoch 166/200\n",
            "9/9 [==============================] - 0s 9ms/step - loss: 0.0772 - accuracy: 0.9855\n",
            "Epoch 167/200\n",
            "9/9 [==============================] - 0s 8ms/step - loss: 0.0772 - accuracy: 0.9855\n",
            "Epoch 168/200\n",
            "9/9 [==============================] - 0s 10ms/step - loss: 0.0766 - accuracy: 0.9818\n",
            "Epoch 169/200\n",
            "9/9 [==============================] - 0s 9ms/step - loss: 0.0769 - accuracy: 0.9782\n",
            "Epoch 170/200\n",
            "9/9 [==============================] - 0s 9ms/step - loss: 0.0762 - accuracy: 0.9818\n",
            "Epoch 171/200\n",
            "9/9 [==============================] - 0s 9ms/step - loss: 0.0743 - accuracy: 0.9855\n",
            "Epoch 172/200\n",
            "9/9 [==============================] - 0s 9ms/step - loss: 0.0737 - accuracy: 0.9855\n",
            "Epoch 173/200\n",
            "9/9 [==============================] - 0s 9ms/step - loss: 0.0747 - accuracy: 0.9818\n",
            "Epoch 174/200\n",
            "9/9 [==============================] - 0s 8ms/step - loss: 0.0739 - accuracy: 0.9855\n",
            "Epoch 175/200\n",
            "9/9 [==============================] - 0s 9ms/step - loss: 0.0735 - accuracy: 0.9855\n",
            "Epoch 176/200\n",
            "9/9 [==============================] - 0s 8ms/step - loss: 0.0729 - accuracy: 0.9855\n",
            "Epoch 177/200\n",
            "9/9 [==============================] - 0s 9ms/step - loss: 0.0716 - accuracy: 0.9818\n",
            "Epoch 178/200\n",
            "9/9 [==============================] - 0s 9ms/step - loss: 0.0715 - accuracy: 0.9855\n",
            "Epoch 179/200\n",
            "9/9 [==============================] - 0s 28ms/step - loss: 0.0740 - accuracy: 0.9782\n",
            "Epoch 180/200\n",
            "9/9 [==============================] - 0s 9ms/step - loss: 0.0718 - accuracy: 0.9855\n",
            "Epoch 181/200\n",
            "9/9 [==============================] - 0s 9ms/step - loss: 0.0701 - accuracy: 0.9855\n",
            "Epoch 182/200\n",
            "9/9 [==============================] - 0s 9ms/step - loss: 0.0702 - accuracy: 0.9818\n",
            "Epoch 183/200\n",
            "9/9 [==============================] - 0s 9ms/step - loss: 0.0693 - accuracy: 0.9818\n",
            "Epoch 184/200\n",
            "9/9 [==============================] - 0s 8ms/step - loss: 0.0686 - accuracy: 0.9818\n",
            "Epoch 185/200\n",
            "9/9 [==============================] - 0s 8ms/step - loss: 0.0677 - accuracy: 0.9818\n",
            "Epoch 186/200\n",
            "9/9 [==============================] - 0s 9ms/step - loss: 0.0681 - accuracy: 0.9818\n",
            "Epoch 187/200\n",
            "9/9 [==============================] - 0s 9ms/step - loss: 0.0668 - accuracy: 0.9855\n",
            "Epoch 188/200\n",
            "9/9 [==============================] - 0s 9ms/step - loss: 0.0658 - accuracy: 0.9855\n",
            "Epoch 189/200\n",
            "9/9 [==============================] - 0s 8ms/step - loss: 0.0667 - accuracy: 0.9855\n",
            "Epoch 190/200\n",
            "9/9 [==============================] - 0s 10ms/step - loss: 0.0661 - accuracy: 0.9855\n",
            "Epoch 191/200\n",
            "9/9 [==============================] - 0s 8ms/step - loss: 0.0662 - accuracy: 0.9818\n",
            "Epoch 192/200\n",
            "9/9 [==============================] - 0s 9ms/step - loss: 0.0647 - accuracy: 0.9855\n",
            "Epoch 193/200\n",
            "9/9 [==============================] - 0s 9ms/step - loss: 0.0657 - accuracy: 0.9855\n",
            "Epoch 194/200\n",
            "9/9 [==============================] - 0s 9ms/step - loss: 0.0645 - accuracy: 0.9818\n",
            "Epoch 195/200\n",
            "9/9 [==============================] - 0s 9ms/step - loss: 0.0645 - accuracy: 0.9818\n",
            "Epoch 196/200\n",
            "9/9 [==============================] - 0s 9ms/step - loss: 0.0626 - accuracy: 0.9855\n",
            "Epoch 197/200\n",
            "9/9 [==============================] - 0s 8ms/step - loss: 0.0625 - accuracy: 0.9855\n",
            "Epoch 198/200\n",
            "9/9 [==============================] - 0s 8ms/step - loss: 0.0630 - accuracy: 0.9818\n",
            "Epoch 199/200\n",
            "9/9 [==============================] - 0s 9ms/step - loss: 0.0629 - accuracy: 0.9818\n",
            "Epoch 200/200\n",
            "9/9 [==============================] - 0s 8ms/step - loss: 0.0613 - accuracy: 0.9855\n"
          ]
        },
        {
          "output_type": "execute_result",
          "data": {
            "text/plain": [
              "<keras.src.callbacks.History at 0x78ce6809baf0>"
            ]
          },
          "metadata": {},
          "execution_count": 26
        }
      ]
    },
    {
      "cell_type": "code",
      "source": [],
      "metadata": {
        "id": "BELMaritL-X5"
      },
      "execution_count": null,
      "outputs": []
    }
  ]
}