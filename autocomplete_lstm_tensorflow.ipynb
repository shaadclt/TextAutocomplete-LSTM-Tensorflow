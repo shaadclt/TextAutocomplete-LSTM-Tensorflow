{
  "nbformat": 4,
  "nbformat_minor": 0,
  "metadata": {
    "colab": {
      "provenance": [],
      "gpuType": "T4"
    },
    "kernelspec": {
      "name": "python3",
      "display_name": "Python 3"
    },
    "language_info": {
      "name": "python"
    },
    "accelerator": "GPU"
  },
  "cells": [
    {
      "cell_type": "code",
      "execution_count": 1,
      "metadata": {
        "id": "6kxN6xHLH9dY"
      },
      "outputs": [],
      "source": [
        "faqs = \"\"\"\n",
        "What is Metridash?\n",
        "Metridash is an all-in-one content creation platform designed to empower creators like you. It combines AI-driven content generation, seamless multichannel publishing, content management, and real-time analytics to streamline your content creation process.\n",
        "How can Metridash help me as a creator?\n",
        "Metridash helps creators overcome creative blocks by generating personalized content ideas and prompts. It simplifies content management across multiple platforms, saving you time and effort. Additionally, it provides real-time analytics to help you track content performance and make data-driven decisions.\n",
        "Do I need to be tech-savvy to use Metridash?\n",
        "Not at all! Metridash is designed with user-friendliness in mind. Whether you're a tech guru or a beginner, you'll find our platform intuitive and easy to navigate.\n",
        "Can I use Metridash for different content platforms like YouTube, Instagram, and my TikTok?\n",
        "Absolutely! Metridash supports content creation and publishing across a wide range of platforms, including YouTube, Instagram, Twitter, Facebook, TikTok, LinkedIn, and blogs. You can manage all your content in one place.\n",
        "How does Metridash generate content ideas?\n",
        "Metridash uses a proprietary algorithm that takes your niche, target audience, and other details into account to generate personalized content ideas and prompts. It's like having a creative brainstorming partner at your side.\n",
        "Is my data safe with Metridash?\n",
        "We take data security seriously. Metridash employs robust security measures to protect your data. You can refer to our Privacy Policy for more details on how we handle and safeguard your information.\n",
        "How can I get started with Metridash?\n",
        "Getting started is easy. Simply sign up for a Metridash account, and you'll gain access to a world of content creation possibilities. We offer both free and premium plans to suit your needs.\n",
        "\"\"\""
      ]
    },
    {
      "cell_type": "code",
      "source": [
        "import tensorflow\n",
        "from tensorflow.keras.preprocessing.text import Tokenizer"
      ],
      "metadata": {
        "id": "ZUIFXBYDIiDt"
      },
      "execution_count": 2,
      "outputs": []
    },
    {
      "cell_type": "code",
      "source": [
        "tokenizer = Tokenizer()"
      ],
      "metadata": {
        "id": "FuXsTLj8IrFZ"
      },
      "execution_count": 3,
      "outputs": []
    },
    {
      "cell_type": "code",
      "source": [
        "tokenizer.fit_on_texts([faqs])"
      ],
      "metadata": {
        "id": "cNrZcSdlI0GL"
      },
      "execution_count": 4,
      "outputs": []
    },
    {
      "cell_type": "code",
      "source": [
        "len(tokenizer.word_index)"
      ],
      "metadata": {
        "colab": {
          "base_uri": "https://localhost:8080/"
        },
        "id": "mMnQhv3-I5RD",
        "outputId": "050773df-6034-49c4-d21d-db11d3ab7584"
      },
      "execution_count": 5,
      "outputs": [
        {
          "output_type": "execute_result",
          "data": {
            "text/plain": [
              "156"
            ]
          },
          "metadata": {},
          "execution_count": 5
        }
      ]
    },
    {
      "cell_type": "code",
      "source": [
        "input_sequences = []\n",
        "for sentence in faqs.split('\\n'):\n",
        "  tokenized_sentence = tokenizer.texts_to_sequences([sentence])[0]\n",
        "\n",
        "  for i in range(1,len(tokenized_sentence)):\n",
        "    input_sequences.append(tokenized_sentence[:i+1])"
      ],
      "metadata": {
        "id": "16NwHR-kI9Tr"
      },
      "execution_count": 6,
      "outputs": []
    },
    {
      "cell_type": "code",
      "source": [
        "max_len = max([len(x) for x in input_sequences])"
      ],
      "metadata": {
        "id": "_z7DiEviJdib"
      },
      "execution_count": 7,
      "outputs": []
    },
    {
      "cell_type": "code",
      "source": [
        "from tensorflow.keras.preprocessing.sequence import pad_sequences\n",
        "padded_input_sequences = pad_sequences(input_sequences,maxlen = max_len, padding='pre')"
      ],
      "metadata": {
        "id": "UdijwiThJmMQ"
      },
      "execution_count": 8,
      "outputs": []
    },
    {
      "cell_type": "code",
      "source": [
        "X = padded_input_sequences[:,:-1]\n",
        "y = padded_input_sequences[:,-1]"
      ],
      "metadata": {
        "id": "U_HC6JsrJ2vj"
      },
      "execution_count": 9,
      "outputs": []
    },
    {
      "cell_type": "code",
      "source": [
        "X.shape"
      ],
      "metadata": {
        "colab": {
          "base_uri": "https://localhost:8080/"
        },
        "id": "gz3mTfrPKUKb",
        "outputId": "2c8df1e4-c0f5-4106-950c-a003b6468858"
      },
      "execution_count": 10,
      "outputs": [
        {
          "output_type": "execute_result",
          "data": {
            "text/plain": [
              "(275, 41)"
            ]
          },
          "metadata": {},
          "execution_count": 10
        }
      ]
    },
    {
      "cell_type": "code",
      "source": [
        "y.shape"
      ],
      "metadata": {
        "colab": {
          "base_uri": "https://localhost:8080/"
        },
        "id": "38mahrJXKX8q",
        "outputId": "598bfd68-b321-47f7-eb6b-49a639f7977d"
      },
      "execution_count": 11,
      "outputs": [
        {
          "output_type": "execute_result",
          "data": {
            "text/plain": [
              "(275,)"
            ]
          },
          "metadata": {},
          "execution_count": 11
        }
      ]
    },
    {
      "cell_type": "code",
      "source": [
        "from tensorflow.keras.utils import to_categorical\n",
        "y = to_categorical(y,num_classes=157)"
      ],
      "metadata": {
        "id": "8vwMA6ayKdkz"
      },
      "execution_count": 12,
      "outputs": []
    },
    {
      "cell_type": "code",
      "source": [
        "y.shape"
      ],
      "metadata": {
        "colab": {
          "base_uri": "https://localhost:8080/"
        },
        "id": "73FfQg2dKzPr",
        "outputId": "8a8358de-67d2-4526-e7a8-41decb022ffb"
      },
      "execution_count": 13,
      "outputs": [
        {
          "output_type": "execute_result",
          "data": {
            "text/plain": [
              "(275, 157)"
            ]
          },
          "metadata": {},
          "execution_count": 13
        }
      ]
    },
    {
      "cell_type": "code",
      "source": [
        "from tensorflow.keras.models import Sequential\n",
        "from tensorflow.keras.layers import Embedding, LSTM, Dense"
      ],
      "metadata": {
        "id": "KbI4nb-BK0aT"
      },
      "execution_count": 14,
      "outputs": []
    },
    {
      "cell_type": "code",
      "source": [
        "model = Sequential()\n",
        "model.add(Embedding(157,100,input_length=41))\n",
        "model.add(LSTM(150, return_sequences=True))\n",
        "model.add(LSTM(150))\n",
        "model.add(Dense(157,activation='softmax'))"
      ],
      "metadata": {
        "id": "K98lFqW4LAjG"
      },
      "execution_count": 15,
      "outputs": []
    },
    {
      "cell_type": "code",
      "source": [
        "model.compile(loss='categorical_crossentropy',optimizer='adam',metrics=['accuracy'])"
      ],
      "metadata": {
        "id": "UtujjtShLXsL"
      },
      "execution_count": 16,
      "outputs": []
    },
    {
      "cell_type": "code",
      "source": [
        "model.summary()"
      ],
      "metadata": {
        "colab": {
          "base_uri": "https://localhost:8080/"
        },
        "id": "ZVah1uVeL1_x",
        "outputId": "ef666b53-eeff-42c2-e7da-e4c7bf9a18ba"
      },
      "execution_count": 17,
      "outputs": [
        {
          "output_type": "stream",
          "name": "stdout",
          "text": [
            "Model: \"sequential\"\n",
            "_________________________________________________________________\n",
            " Layer (type)                Output Shape              Param #   \n",
            "=================================================================\n",
            " embedding (Embedding)       (None, 41, 100)           15700     \n",
            "                                                                 \n",
            " lstm (LSTM)                 (None, 41, 150)           150600    \n",
            "                                                                 \n",
            " lstm_1 (LSTM)               (None, 150)               180600    \n",
            "                                                                 \n",
            " dense (Dense)               (None, 157)               23707     \n",
            "                                                                 \n",
            "=================================================================\n",
            "Total params: 370607 (1.41 MB)\n",
            "Trainable params: 370607 (1.41 MB)\n",
            "Non-trainable params: 0 (0.00 Byte)\n",
            "_________________________________________________________________\n"
          ]
        }
      ]
    },
    {
      "cell_type": "code",
      "source": [
        "model.fit(X,y,epochs=200)"
      ],
      "metadata": {
        "colab": {
          "base_uri": "https://localhost:8080/"
        },
        "id": "v_OSg_rvL3wB",
        "outputId": "b109d0a0-2b15-424f-886f-8e39d367b7c6"
      },
      "execution_count": 18,
      "outputs": [
        {
          "output_type": "stream",
          "name": "stdout",
          "text": [
            "Epoch 1/200\n",
            "9/9 [==============================] - 7s 160ms/step - loss: 5.0507 - accuracy: 0.0255\n",
            "Epoch 2/200\n",
            "9/9 [==============================] - 1s 142ms/step - loss: 4.9330 - accuracy: 0.0400\n",
            "Epoch 3/200\n",
            "9/9 [==============================] - 1s 88ms/step - loss: 4.7888 - accuracy: 0.0364\n",
            "Epoch 4/200\n",
            "9/9 [==============================] - 1s 131ms/step - loss: 4.7447 - accuracy: 0.0509\n",
            "Epoch 5/200\n",
            "9/9 [==============================] - 1s 93ms/step - loss: 4.7285 - accuracy: 0.0327\n",
            "Epoch 6/200\n",
            "9/9 [==============================] - 0s 47ms/step - loss: 4.6918 - accuracy: 0.0545\n",
            "Epoch 7/200\n",
            "9/9 [==============================] - 1s 69ms/step - loss: 4.6595 - accuracy: 0.0691\n",
            "Epoch 8/200\n",
            "9/9 [==============================] - 0s 11ms/step - loss: 4.6068 - accuracy: 0.0836\n",
            "Epoch 9/200\n",
            "9/9 [==============================] - 0s 29ms/step - loss: 4.5470 - accuracy: 0.0691\n",
            "Epoch 10/200\n",
            "9/9 [==============================] - 0s 29ms/step - loss: 4.4926 - accuracy: 0.0727\n",
            "Epoch 11/200\n",
            "9/9 [==============================] - 0s 30ms/step - loss: 4.4108 - accuracy: 0.0764\n",
            "Epoch 12/200\n",
            "9/9 [==============================] - 0s 10ms/step - loss: 4.3276 - accuracy: 0.0836\n",
            "Epoch 13/200\n",
            "9/9 [==============================] - 0s 10ms/step - loss: 4.2486 - accuracy: 0.0873\n",
            "Epoch 14/200\n",
            "9/9 [==============================] - 0s 28ms/step - loss: 4.1702 - accuracy: 0.0909\n",
            "Epoch 15/200\n",
            "9/9 [==============================] - 0s 28ms/step - loss: 4.1064 - accuracy: 0.0945\n",
            "Epoch 16/200\n",
            "9/9 [==============================] - 0s 9ms/step - loss: 4.0426 - accuracy: 0.0945\n",
            "Epoch 17/200\n",
            "9/9 [==============================] - 0s 28ms/step - loss: 3.9454 - accuracy: 0.0982\n",
            "Epoch 18/200\n",
            "9/9 [==============================] - 0s 8ms/step - loss: 3.8819 - accuracy: 0.1127\n",
            "Epoch 19/200\n",
            "9/9 [==============================] - 0s 8ms/step - loss: 3.8083 - accuracy: 0.1127\n",
            "Epoch 20/200\n",
            "9/9 [==============================] - 0s 9ms/step - loss: 3.7149 - accuracy: 0.1091\n",
            "Epoch 21/200\n",
            "9/9 [==============================] - 0s 27ms/step - loss: 3.6368 - accuracy: 0.1309\n",
            "Epoch 22/200\n",
            "9/9 [==============================] - 0s 8ms/step - loss: 3.5724 - accuracy: 0.1309\n",
            "Epoch 23/200\n",
            "9/9 [==============================] - 0s 8ms/step - loss: 3.5114 - accuracy: 0.1273\n",
            "Epoch 24/200\n",
            "9/9 [==============================] - 0s 27ms/step - loss: 3.4334 - accuracy: 0.1382\n",
            "Epoch 25/200\n",
            "9/9 [==============================] - 0s 45ms/step - loss: 3.3811 - accuracy: 0.1491\n",
            "Epoch 26/200\n",
            "9/9 [==============================] - 0s 28ms/step - loss: 3.3131 - accuracy: 0.1636\n",
            "Epoch 27/200\n",
            "9/9 [==============================] - 0s 9ms/step - loss: 3.2579 - accuracy: 0.1564\n",
            "Epoch 28/200\n",
            "9/9 [==============================] - 0s 9ms/step - loss: 3.1621 - accuracy: 0.1636\n",
            "Epoch 29/200\n",
            "9/9 [==============================] - 0s 10ms/step - loss: 3.0858 - accuracy: 0.1782\n",
            "Epoch 30/200\n",
            "9/9 [==============================] - 0s 29ms/step - loss: 3.0217 - accuracy: 0.1673\n",
            "Epoch 31/200\n",
            "9/9 [==============================] - 0s 9ms/step - loss: 2.9459 - accuracy: 0.2109\n",
            "Epoch 32/200\n",
            "9/9 [==============================] - 0s 29ms/step - loss: 2.9034 - accuracy: 0.2036\n",
            "Epoch 33/200\n",
            "9/9 [==============================] - 0s 9ms/step - loss: 2.8169 - accuracy: 0.2218\n",
            "Epoch 34/200\n",
            "9/9 [==============================] - 0s 8ms/step - loss: 2.7667 - accuracy: 0.2145\n",
            "Epoch 35/200\n",
            "9/9 [==============================] - 0s 8ms/step - loss: 2.7271 - accuracy: 0.2218\n",
            "Epoch 36/200\n",
            "9/9 [==============================] - 0s 8ms/step - loss: 2.6639 - accuracy: 0.2473\n",
            "Epoch 37/200\n",
            "9/9 [==============================] - 0s 8ms/step - loss: 2.6135 - accuracy: 0.2655\n",
            "Epoch 38/200\n",
            "9/9 [==============================] - 0s 9ms/step - loss: 2.5570 - accuracy: 0.2691\n",
            "Epoch 39/200\n",
            "9/9 [==============================] - 0s 8ms/step - loss: 2.4919 - accuracy: 0.3055\n",
            "Epoch 40/200\n",
            "9/9 [==============================] - 0s 8ms/step - loss: 2.4365 - accuracy: 0.3455\n",
            "Epoch 41/200\n",
            "9/9 [==============================] - 0s 29ms/step - loss: 2.3959 - accuracy: 0.3455\n",
            "Epoch 42/200\n",
            "9/9 [==============================] - 0s 9ms/step - loss: 2.3326 - accuracy: 0.3382\n",
            "Epoch 43/200\n",
            "9/9 [==============================] - 0s 8ms/step - loss: 2.2957 - accuracy: 0.3673\n",
            "Epoch 44/200\n",
            "9/9 [==============================] - 0s 8ms/step - loss: 2.2800 - accuracy: 0.3709\n",
            "Epoch 45/200\n",
            "9/9 [==============================] - 0s 8ms/step - loss: 2.2321 - accuracy: 0.3927\n",
            "Epoch 46/200\n",
            "9/9 [==============================] - 0s 8ms/step - loss: 2.1825 - accuracy: 0.3818\n",
            "Epoch 47/200\n",
            "9/9 [==============================] - 0s 8ms/step - loss: 2.1392 - accuracy: 0.4327\n",
            "Epoch 48/200\n",
            "9/9 [==============================] - 0s 9ms/step - loss: 2.0853 - accuracy: 0.4655\n",
            "Epoch 49/200\n",
            "9/9 [==============================] - 0s 8ms/step - loss: 2.0495 - accuracy: 0.4655\n",
            "Epoch 50/200\n",
            "9/9 [==============================] - 0s 26ms/step - loss: 2.0393 - accuracy: 0.4545\n",
            "Epoch 51/200\n",
            "9/9 [==============================] - 0s 8ms/step - loss: 2.0342 - accuracy: 0.4145\n",
            "Epoch 52/200\n",
            "9/9 [==============================] - 0s 8ms/step - loss: 1.9906 - accuracy: 0.4655\n",
            "Epoch 53/200\n",
            "9/9 [==============================] - 0s 26ms/step - loss: 1.9245 - accuracy: 0.5382\n",
            "Epoch 54/200\n",
            "9/9 [==============================] - 0s 8ms/step - loss: 1.8726 - accuracy: 0.5564\n",
            "Epoch 55/200\n",
            "9/9 [==============================] - 0s 8ms/step - loss: 1.8385 - accuracy: 0.5636\n",
            "Epoch 56/200\n",
            "9/9 [==============================] - 0s 8ms/step - loss: 1.7913 - accuracy: 0.5745\n",
            "Epoch 57/200\n",
            "9/9 [==============================] - 0s 9ms/step - loss: 1.7711 - accuracy: 0.5964\n",
            "Epoch 58/200\n",
            "9/9 [==============================] - 0s 8ms/step - loss: 1.7262 - accuracy: 0.6364\n",
            "Epoch 59/200\n",
            "9/9 [==============================] - 0s 8ms/step - loss: 1.7012 - accuracy: 0.6109\n",
            "Epoch 60/200\n",
            "9/9 [==============================] - 0s 8ms/step - loss: 1.7012 - accuracy: 0.5673\n",
            "Epoch 61/200\n",
            "9/9 [==============================] - 0s 8ms/step - loss: 1.6776 - accuracy: 0.5600\n",
            "Epoch 62/200\n",
            "9/9 [==============================] - 0s 8ms/step - loss: 1.6571 - accuracy: 0.6073\n",
            "Epoch 63/200\n",
            "9/9 [==============================] - 0s 28ms/step - loss: 1.6999 - accuracy: 0.5273\n",
            "Epoch 64/200\n",
            "9/9 [==============================] - 0s 8ms/step - loss: 1.6389 - accuracy: 0.6036\n",
            "Epoch 65/200\n",
            "9/9 [==============================] - 0s 9ms/step - loss: 1.5625 - accuracy: 0.6800\n",
            "Epoch 66/200\n",
            "9/9 [==============================] - 0s 29ms/step - loss: 1.5384 - accuracy: 0.6945\n",
            "Epoch 67/200\n",
            "9/9 [==============================] - 0s 27ms/step - loss: 1.5104 - accuracy: 0.6764\n",
            "Epoch 68/200\n",
            "9/9 [==============================] - 0s 8ms/step - loss: 1.4852 - accuracy: 0.7055\n",
            "Epoch 69/200\n",
            "9/9 [==============================] - 0s 8ms/step - loss: 1.4528 - accuracy: 0.7164\n",
            "Epoch 70/200\n",
            "9/9 [==============================] - 0s 9ms/step - loss: 1.4453 - accuracy: 0.7127\n",
            "Epoch 71/200\n",
            "9/9 [==============================] - 0s 8ms/step - loss: 1.3922 - accuracy: 0.7636\n",
            "Epoch 72/200\n",
            "9/9 [==============================] - 0s 8ms/step - loss: 1.3666 - accuracy: 0.7382\n",
            "Epoch 73/200\n",
            "9/9 [==============================] - 0s 8ms/step - loss: 1.3409 - accuracy: 0.7600\n",
            "Epoch 74/200\n",
            "9/9 [==============================] - 0s 9ms/step - loss: 1.3284 - accuracy: 0.7455\n",
            "Epoch 75/200\n",
            "9/9 [==============================] - 0s 9ms/step - loss: 1.3119 - accuracy: 0.7418\n",
            "Epoch 76/200\n",
            "9/9 [==============================] - 0s 8ms/step - loss: 1.3094 - accuracy: 0.7164\n",
            "Epoch 77/200\n",
            "9/9 [==============================] - 0s 9ms/step - loss: 1.2710 - accuracy: 0.7636\n",
            "Epoch 78/200\n",
            "9/9 [==============================] - 0s 9ms/step - loss: 1.2438 - accuracy: 0.8036\n",
            "Epoch 79/200\n",
            "9/9 [==============================] - 0s 12ms/step - loss: 1.2307 - accuracy: 0.7673\n",
            "Epoch 80/200\n",
            "9/9 [==============================] - 0s 12ms/step - loss: 1.2004 - accuracy: 0.7855\n",
            "Epoch 81/200\n",
            "9/9 [==============================] - 0s 11ms/step - loss: 1.1899 - accuracy: 0.7818\n",
            "Epoch 82/200\n",
            "9/9 [==============================] - 0s 11ms/step - loss: 1.1549 - accuracy: 0.8291\n",
            "Epoch 83/200\n",
            "9/9 [==============================] - 0s 11ms/step - loss: 1.1372 - accuracy: 0.8509\n",
            "Epoch 84/200\n",
            "9/9 [==============================] - 0s 11ms/step - loss: 1.1200 - accuracy: 0.8327\n",
            "Epoch 85/200\n",
            "9/9 [==============================] - 0s 11ms/step - loss: 1.1014 - accuracy: 0.8400\n",
            "Epoch 86/200\n",
            "9/9 [==============================] - 0s 11ms/step - loss: 1.0840 - accuracy: 0.8545\n",
            "Epoch 87/200\n",
            "9/9 [==============================] - 0s 12ms/step - loss: 1.0498 - accuracy: 0.8655\n",
            "Epoch 88/200\n",
            "9/9 [==============================] - 0s 10ms/step - loss: 1.0355 - accuracy: 0.8836\n",
            "Epoch 89/200\n",
            "9/9 [==============================] - 0s 11ms/step - loss: 1.0228 - accuracy: 0.8691\n",
            "Epoch 90/200\n",
            "9/9 [==============================] - 0s 42ms/step - loss: 1.0288 - accuracy: 0.8509\n",
            "Epoch 91/200\n",
            "9/9 [==============================] - 0s 12ms/step - loss: 1.0660 - accuracy: 0.8036\n",
            "Epoch 92/200\n",
            "9/9 [==============================] - 0s 11ms/step - loss: 1.0507 - accuracy: 0.8291\n",
            "Epoch 93/200\n",
            "9/9 [==============================] - 0s 11ms/step - loss: 1.0363 - accuracy: 0.8182\n",
            "Epoch 94/200\n",
            "9/9 [==============================] - 0s 12ms/step - loss: 1.0115 - accuracy: 0.8327\n",
            "Epoch 95/200\n",
            "9/9 [==============================] - 0s 11ms/step - loss: 1.0005 - accuracy: 0.8255\n",
            "Epoch 96/200\n",
            "9/9 [==============================] - 0s 12ms/step - loss: 0.9497 - accuracy: 0.8836\n",
            "Epoch 97/200\n",
            "9/9 [==============================] - 0s 12ms/step - loss: 0.9109 - accuracy: 0.9127\n",
            "Epoch 98/200\n",
            "9/9 [==============================] - 0s 10ms/step - loss: 0.8879 - accuracy: 0.8982\n",
            "Epoch 99/200\n",
            "9/9 [==============================] - 0s 8ms/step - loss: 0.8650 - accuracy: 0.9236\n",
            "Epoch 100/200\n",
            "9/9 [==============================] - 0s 9ms/step - loss: 0.8529 - accuracy: 0.9382\n",
            "Epoch 101/200\n",
            "9/9 [==============================] - 0s 9ms/step - loss: 0.8305 - accuracy: 0.9491\n",
            "Epoch 102/200\n",
            "9/9 [==============================] - 0s 8ms/step - loss: 0.8212 - accuracy: 0.9309\n",
            "Epoch 103/200\n",
            "9/9 [==============================] - 0s 9ms/step - loss: 0.8080 - accuracy: 0.9309\n",
            "Epoch 104/200\n",
            "9/9 [==============================] - 0s 8ms/step - loss: 0.7824 - accuracy: 0.9382\n",
            "Epoch 105/200\n",
            "9/9 [==============================] - 0s 10ms/step - loss: 0.7772 - accuracy: 0.9309\n",
            "Epoch 106/200\n",
            "9/9 [==============================] - 0s 9ms/step - loss: 0.7794 - accuracy: 0.9382\n",
            "Epoch 107/200\n",
            "9/9 [==============================] - 0s 8ms/step - loss: 0.7782 - accuracy: 0.9018\n",
            "Epoch 108/200\n",
            "9/9 [==============================] - 0s 8ms/step - loss: 0.7608 - accuracy: 0.9273\n",
            "Epoch 109/200\n",
            "9/9 [==============================] - 0s 8ms/step - loss: 0.7368 - accuracy: 0.9345\n",
            "Epoch 110/200\n",
            "9/9 [==============================] - 0s 8ms/step - loss: 0.7142 - accuracy: 0.9527\n",
            "Epoch 111/200\n",
            "9/9 [==============================] - 0s 8ms/step - loss: 0.7132 - accuracy: 0.9527\n",
            "Epoch 112/200\n",
            "9/9 [==============================] - 0s 8ms/step - loss: 0.7022 - accuracy: 0.9455\n",
            "Epoch 113/200\n",
            "9/9 [==============================] - 0s 8ms/step - loss: 0.6818 - accuracy: 0.9491\n",
            "Epoch 114/200\n",
            "9/9 [==============================] - 0s 9ms/step - loss: 0.6868 - accuracy: 0.9345\n",
            "Epoch 115/200\n",
            "9/9 [==============================] - 0s 9ms/step - loss: 0.6776 - accuracy: 0.9455\n",
            "Epoch 116/200\n",
            "9/9 [==============================] - 0s 8ms/step - loss: 0.6593 - accuracy: 0.9418\n",
            "Epoch 117/200\n",
            "9/9 [==============================] - 0s 9ms/step - loss: 0.6590 - accuracy: 0.9418\n",
            "Epoch 118/200\n",
            "9/9 [==============================] - 0s 8ms/step - loss: 0.6351 - accuracy: 0.9600\n",
            "Epoch 119/200\n",
            "9/9 [==============================] - 0s 9ms/step - loss: 0.6168 - accuracy: 0.9564\n",
            "Epoch 120/200\n",
            "9/9 [==============================] - 0s 8ms/step - loss: 0.6167 - accuracy: 0.9564\n",
            "Epoch 121/200\n",
            "9/9 [==============================] - 0s 8ms/step - loss: 0.6076 - accuracy: 0.9527\n",
            "Epoch 122/200\n",
            "9/9 [==============================] - 0s 26ms/step - loss: 0.6005 - accuracy: 0.9491\n",
            "Epoch 123/200\n",
            "9/9 [==============================] - 0s 9ms/step - loss: 0.6001 - accuracy: 0.9564\n",
            "Epoch 124/200\n",
            "9/9 [==============================] - 0s 27ms/step - loss: 0.6112 - accuracy: 0.9345\n",
            "Epoch 125/200\n",
            "9/9 [==============================] - 0s 9ms/step - loss: 0.6475 - accuracy: 0.9164\n",
            "Epoch 126/200\n",
            "9/9 [==============================] - 0s 10ms/step - loss: 0.6541 - accuracy: 0.8764\n",
            "Epoch 127/200\n",
            "9/9 [==============================] - 0s 28ms/step - loss: 0.6255 - accuracy: 0.9164\n",
            "Epoch 128/200\n",
            "9/9 [==============================] - 0s 9ms/step - loss: 0.6025 - accuracy: 0.9200\n",
            "Epoch 129/200\n",
            "9/9 [==============================] - 0s 9ms/step - loss: 0.6517 - accuracy: 0.8764\n",
            "Epoch 130/200\n",
            "9/9 [==============================] - 0s 8ms/step - loss: 0.6170 - accuracy: 0.8945\n",
            "Epoch 131/200\n",
            "9/9 [==============================] - 0s 8ms/step - loss: 0.5665 - accuracy: 0.9382\n",
            "Epoch 132/200\n",
            "9/9 [==============================] - 0s 8ms/step - loss: 0.5423 - accuracy: 0.9527\n",
            "Epoch 133/200\n",
            "9/9 [==============================] - 0s 27ms/step - loss: 0.5297 - accuracy: 0.9455\n",
            "Epoch 134/200\n",
            "9/9 [==============================] - 0s 8ms/step - loss: 0.5110 - accuracy: 0.9527\n",
            "Epoch 135/200\n",
            "9/9 [==============================] - 0s 10ms/step - loss: 0.4965 - accuracy: 0.9600\n",
            "Epoch 136/200\n",
            "9/9 [==============================] - 0s 9ms/step - loss: 0.4846 - accuracy: 0.9600\n",
            "Epoch 137/200\n",
            "9/9 [==============================] - 0s 8ms/step - loss: 0.4672 - accuracy: 0.9636\n",
            "Epoch 138/200\n",
            "9/9 [==============================] - 0s 8ms/step - loss: 0.4531 - accuracy: 0.9600\n",
            "Epoch 139/200\n",
            "9/9 [==============================] - 0s 47ms/step - loss: 0.4427 - accuracy: 0.9600\n",
            "Epoch 140/200\n",
            "9/9 [==============================] - 0s 9ms/step - loss: 0.4439 - accuracy: 0.9564\n",
            "Epoch 141/200\n",
            "9/9 [==============================] - 0s 8ms/step - loss: 0.4273 - accuracy: 0.9673\n",
            "Epoch 142/200\n",
            "9/9 [==============================] - 0s 9ms/step - loss: 0.4196 - accuracy: 0.9673\n",
            "Epoch 143/200\n",
            "9/9 [==============================] - 0s 8ms/step - loss: 0.4112 - accuracy: 0.9673\n",
            "Epoch 144/200\n",
            "9/9 [==============================] - 0s 10ms/step - loss: 0.4039 - accuracy: 0.9709\n",
            "Epoch 145/200\n",
            "9/9 [==============================] - 0s 8ms/step - loss: 0.3980 - accuracy: 0.9745\n",
            "Epoch 146/200\n",
            "9/9 [==============================] - 0s 9ms/step - loss: 0.3909 - accuracy: 0.9745\n",
            "Epoch 147/200\n",
            "9/9 [==============================] - 0s 8ms/step - loss: 0.3869 - accuracy: 0.9782\n",
            "Epoch 148/200\n",
            "9/9 [==============================] - 0s 8ms/step - loss: 0.3777 - accuracy: 0.9745\n",
            "Epoch 149/200\n",
            "9/9 [==============================] - 0s 9ms/step - loss: 0.3686 - accuracy: 0.9745\n",
            "Epoch 150/200\n",
            "9/9 [==============================] - 0s 8ms/step - loss: 0.3632 - accuracy: 0.9745\n",
            "Epoch 151/200\n",
            "9/9 [==============================] - 0s 8ms/step - loss: 0.3571 - accuracy: 0.9782\n",
            "Epoch 152/200\n",
            "9/9 [==============================] - 0s 8ms/step - loss: 0.3540 - accuracy: 0.9782\n",
            "Epoch 153/200\n",
            "9/9 [==============================] - 0s 9ms/step - loss: 0.3460 - accuracy: 0.9673\n",
            "Epoch 154/200\n",
            "9/9 [==============================] - 0s 8ms/step - loss: 0.3398 - accuracy: 0.9745\n",
            "Epoch 155/200\n",
            "9/9 [==============================] - 0s 8ms/step - loss: 0.3353 - accuracy: 0.9818\n",
            "Epoch 156/200\n",
            "9/9 [==============================] - 0s 9ms/step - loss: 0.3289 - accuracy: 0.9818\n",
            "Epoch 157/200\n",
            "9/9 [==============================] - 0s 8ms/step - loss: 0.3257 - accuracy: 0.9782\n",
            "Epoch 158/200\n",
            "9/9 [==============================] - 0s 8ms/step - loss: 0.3199 - accuracy: 0.9709\n",
            "Epoch 159/200\n",
            "9/9 [==============================] - 0s 8ms/step - loss: 0.3151 - accuracy: 0.9818\n",
            "Epoch 160/200\n",
            "9/9 [==============================] - 0s 8ms/step - loss: 0.3142 - accuracy: 0.9818\n",
            "Epoch 161/200\n",
            "9/9 [==============================] - 0s 8ms/step - loss: 0.3093 - accuracy: 0.9782\n",
            "Epoch 162/200\n",
            "9/9 [==============================] - 0s 8ms/step - loss: 0.3032 - accuracy: 0.9818\n",
            "Epoch 163/200\n",
            "9/9 [==============================] - 0s 8ms/step - loss: 0.2986 - accuracy: 0.9818\n",
            "Epoch 164/200\n",
            "9/9 [==============================] - 0s 9ms/step - loss: 0.2946 - accuracy: 0.9782\n",
            "Epoch 165/200\n",
            "9/9 [==============================] - 0s 9ms/step - loss: 0.2976 - accuracy: 0.9782\n",
            "Epoch 166/200\n",
            "9/9 [==============================] - 0s 8ms/step - loss: 0.2928 - accuracy: 0.9782\n",
            "Epoch 167/200\n",
            "9/9 [==============================] - 0s 8ms/step - loss: 0.2838 - accuracy: 0.9745\n",
            "Epoch 168/200\n",
            "9/9 [==============================] - 0s 9ms/step - loss: 0.2802 - accuracy: 0.9818\n",
            "Epoch 169/200\n",
            "9/9 [==============================] - 0s 8ms/step - loss: 0.2741 - accuracy: 0.9818\n",
            "Epoch 170/200\n",
            "9/9 [==============================] - 0s 8ms/step - loss: 0.2702 - accuracy: 0.9855\n",
            "Epoch 171/200\n",
            "9/9 [==============================] - 0s 8ms/step - loss: 0.2654 - accuracy: 0.9855\n",
            "Epoch 172/200\n",
            "9/9 [==============================] - 0s 8ms/step - loss: 0.2631 - accuracy: 0.9855\n",
            "Epoch 173/200\n",
            "9/9 [==============================] - 0s 9ms/step - loss: 0.2616 - accuracy: 0.9855\n",
            "Epoch 174/200\n",
            "9/9 [==============================] - 0s 8ms/step - loss: 0.2649 - accuracy: 0.9855\n",
            "Epoch 175/200\n",
            "9/9 [==============================] - 0s 8ms/step - loss: 0.2571 - accuracy: 0.9855\n",
            "Epoch 176/200\n",
            "9/9 [==============================] - 0s 10ms/step - loss: 0.2509 - accuracy: 0.9818\n",
            "Epoch 177/200\n",
            "9/9 [==============================] - 0s 8ms/step - loss: 0.2480 - accuracy: 0.9782\n",
            "Epoch 178/200\n",
            "9/9 [==============================] - 0s 9ms/step - loss: 0.2429 - accuracy: 0.9855\n",
            "Epoch 179/200\n",
            "9/9 [==============================] - 0s 8ms/step - loss: 0.2377 - accuracy: 0.9818\n",
            "Epoch 180/200\n",
            "9/9 [==============================] - 0s 8ms/step - loss: 0.2299 - accuracy: 0.9818\n",
            "Epoch 181/200\n",
            "9/9 [==============================] - 0s 9ms/step - loss: 0.2305 - accuracy: 0.9855\n",
            "Epoch 182/200\n",
            "9/9 [==============================] - 0s 8ms/step - loss: 0.2255 - accuracy: 0.9818\n",
            "Epoch 183/200\n",
            "9/9 [==============================] - 0s 8ms/step - loss: 0.2236 - accuracy: 0.9855\n",
            "Epoch 184/200\n",
            "9/9 [==============================] - 0s 8ms/step - loss: 0.2239 - accuracy: 0.9855\n",
            "Epoch 185/200\n",
            "9/9 [==============================] - 0s 8ms/step - loss: 0.2391 - accuracy: 0.9818\n",
            "Epoch 186/200\n",
            "9/9 [==============================] - 0s 9ms/step - loss: 0.2937 - accuracy: 0.9564\n",
            "Epoch 187/200\n",
            "9/9 [==============================] - 0s 8ms/step - loss: 0.3398 - accuracy: 0.9273\n",
            "Epoch 188/200\n",
            "9/9 [==============================] - 0s 8ms/step - loss: 0.3380 - accuracy: 0.9382\n",
            "Epoch 189/200\n",
            "9/9 [==============================] - 0s 9ms/step - loss: 0.3603 - accuracy: 0.9273\n",
            "Epoch 190/200\n",
            "9/9 [==============================] - 0s 8ms/step - loss: 0.4004 - accuracy: 0.9055\n",
            "Epoch 191/200\n",
            "9/9 [==============================] - 0s 8ms/step - loss: 0.3885 - accuracy: 0.9018\n",
            "Epoch 192/200\n",
            "9/9 [==============================] - 0s 29ms/step - loss: 0.4209 - accuracy: 0.9164\n",
            "Epoch 193/200\n",
            "9/9 [==============================] - 0s 9ms/step - loss: 0.3571 - accuracy: 0.9345\n",
            "Epoch 194/200\n",
            "9/9 [==============================] - 0s 9ms/step - loss: 0.3325 - accuracy: 0.9455\n",
            "Epoch 195/200\n",
            "9/9 [==============================] - 0s 9ms/step - loss: 0.3098 - accuracy: 0.9564\n",
            "Epoch 196/200\n",
            "9/9 [==============================] - 0s 8ms/step - loss: 0.2702 - accuracy: 0.9600\n",
            "Epoch 197/200\n",
            "9/9 [==============================] - 0s 8ms/step - loss: 0.2391 - accuracy: 0.9818\n",
            "Epoch 198/200\n",
            "9/9 [==============================] - 0s 10ms/step - loss: 0.2203 - accuracy: 0.9855\n",
            "Epoch 199/200\n",
            "9/9 [==============================] - 0s 8ms/step - loss: 0.2006 - accuracy: 0.9855\n",
            "Epoch 200/200\n",
            "9/9 [==============================] - 0s 9ms/step - loss: 0.1948 - accuracy: 0.9818\n"
          ]
        },
        {
          "output_type": "execute_result",
          "data": {
            "text/plain": [
              "<keras.src.callbacks.History at 0x7b64f011dfc0>"
            ]
          },
          "metadata": {},
          "execution_count": 18
        }
      ]
    },
    {
      "cell_type": "code",
      "source": [
        "import time\n",
        "import numpy as np\n",
        "text = \"Metridash uses\"\n",
        "\n",
        "for i in range(10):\n",
        "  # tokenize\n",
        "  token_text = tokenizer.texts_to_sequences([text])[0]\n",
        "  # padding\n",
        "  padded_token_text = pad_sequences([token_text], maxlen=41, padding='pre')\n",
        "  # predict\n",
        "  pos = np.argmax(model.predict(padded_token_text))\n",
        "\n",
        "  for word,index in tokenizer.word_index.items():\n",
        "    if index == pos:\n",
        "      text = text + \" \" + word\n",
        "      print(text)\n",
        "      time.sleep(2)"
      ],
      "metadata": {
        "id": "BELMaritL-X5",
        "colab": {
          "base_uri": "https://localhost:8080/"
        },
        "outputId": "d2b69d8c-e770-46f6-d689-43c20017fafb"
      },
      "execution_count": 19,
      "outputs": [
        {
          "output_type": "stream",
          "name": "stdout",
          "text": [
            "1/1 [==============================] - 1s 816ms/step\n",
            "Metridash uses a\n",
            "1/1 [==============================] - 0s 19ms/step\n",
            "Metridash uses a proprietary\n",
            "1/1 [==============================] - 0s 19ms/step\n",
            "Metridash uses a proprietary algorithm\n",
            "1/1 [==============================] - 0s 19ms/step\n",
            "Metridash uses a proprietary algorithm that\n",
            "1/1 [==============================] - 0s 20ms/step\n",
            "Metridash uses a proprietary algorithm that takes\n",
            "1/1 [==============================] - 0s 19ms/step\n",
            "Metridash uses a proprietary algorithm that takes your\n",
            "1/1 [==============================] - 0s 19ms/step\n",
            "Metridash uses a proprietary algorithm that takes your niche\n",
            "1/1 [==============================] - 0s 18ms/step\n",
            "Metridash uses a proprietary algorithm that takes your niche target\n",
            "1/1 [==============================] - 0s 19ms/step\n",
            "Metridash uses a proprietary algorithm that takes your niche target audience\n",
            "1/1 [==============================] - 0s 19ms/step\n",
            "Metridash uses a proprietary algorithm that takes your niche target audience and\n"
          ]
        }
      ]
    },
    {
      "cell_type": "code",
      "source": [
        "model.save(\"metridash_model.h5\")"
      ],
      "metadata": {
        "id": "iVgsVD6HVCMJ",
        "colab": {
          "base_uri": "https://localhost:8080/"
        },
        "outputId": "313cd814-d589-4bc0-adb0-92767a33a5f0"
      },
      "execution_count": 20,
      "outputs": [
        {
          "output_type": "stream",
          "name": "stderr",
          "text": [
            "/usr/local/lib/python3.10/dist-packages/keras/src/engine/training.py:3103: UserWarning: You are saving your model as an HDF5 file via `model.save()`. This file format is considered legacy. We recommend using instead the native Keras format, e.g. `model.save('my_model.keras')`.\n",
            "  saving_api.save_model(\n"
          ]
        }
      ]
    }
  ]
}